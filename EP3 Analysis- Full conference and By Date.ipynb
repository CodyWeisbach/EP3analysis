{
 "cells": [
  {
   "cell_type": "markdown",
   "metadata": {},
   "source": [
    "## Twitter Analysis of EP3 USA"
   ]
  },
  {
   "cell_type": "markdown",
   "metadata": {},
   "source": [
    "First I'll import the libraries that are needed"
   ]
  },
  {
   "cell_type": "code",
   "execution_count": 1,
   "metadata": {
    "collapsed": false
   },
   "outputs": [],
   "source": [
    "%matplotlib inline\n",
    "import pymongo\n",
    "from datetime import date\n",
    "import pandas as pd\n",
    "import numpy as np\n",
    "import matplotlib.pyplot as plt\n",
    "from matplotlib import style\n"
   ]
  },
  {
   "cell_type": "markdown",
   "metadata": {},
   "source": [
    "Now Let's get into the ep3east data\n",
    "First I'll make a connection to my database"
   ]
  },
  {
   "cell_type": "code",
   "execution_count": 2,
   "metadata": {
    "collapsed": true
   },
   "outputs": [],
   "source": [
    "client_con = pymongo.MongoClient()"
   ]
  },
  {
   "cell_type": "code",
   "execution_count": 3,
   "metadata": {
    "collapsed": false
   },
   "outputs": [
    {
     "data": {
      "text/plain": [
       "[u'local', u'test']"
      ]
     },
     "execution_count": 3,
     "metadata": {},
     "output_type": "execute_result"
    }
   ],
   "source": [
    "client_con.database_names()"
   ]
  },
  {
   "cell_type": "code",
   "execution_count": 4,
   "metadata": {
    "collapsed": true
   },
   "outputs": [],
   "source": [
    "local_db = client_con['test']"
   ]
  },
  {
   "cell_type": "code",
   "execution_count": 5,
   "metadata": {
    "collapsed": false
   },
   "outputs": [
    {
     "data": {
      "text/plain": [
       "[u'twitter_data', u'ep3', u'ep3west', u'tweet_practice']"
      ]
     },
     "execution_count": 5,
     "metadata": {},
     "output_type": "execute_result"
    }
   ],
   "source": [
    "local_db.collection_names()"
   ]
  },
  {
   "cell_type": "markdown",
   "metadata": {},
   "source": [
    "'ep3' is the collection with the ep3east data.  \n",
    "I'll load the data into a variable called data_set"
   ]
  },
  {
   "cell_type": "code",
   "execution_count": 6,
   "metadata": {
    "collapsed": false
   },
   "outputs": [],
   "source": [
    "data_set = local_db['ep3']"
   ]
  },
  {
   "cell_type": "markdown",
   "metadata": {},
   "source": [
    "Next I'll take a quick look at how many tweets are in there"
   ]
  },
  {
   "cell_type": "code",
   "execution_count": 7,
   "metadata": {
    "collapsed": false
   },
   "outputs": [
    {
     "data": {
      "text/plain": [
       "2088"
      ]
     },
     "execution_count": 7,
     "metadata": {},
     "output_type": "execute_result"
    }
   ],
   "source": [
    "data_set.count()"
   ]
  },
  {
   "cell_type": "markdown",
   "metadata": {},
   "source": [
    "In case you are wondering, this is what one tweet looks like. "
   ]
  },
  {
   "cell_type": "code",
   "execution_count": 8,
   "metadata": {
    "collapsed": false
   },
   "outputs": [
    {
     "name": "stdout",
     "output_type": "stream",
     "text": [
      "{u'contributors': None, u'truncated': False, u'text': u'RT @noigroup: Super SIM- \"Laughter is internal jogging!\" Butler #ep3east', u'is_quote_status': False, u'in_reply_to_status_id': None, u'id': 806226754209808388L, u'favorite_count': 0, u'source': u'<a href=\"http://twitter.com/download/android\" rel=\"nofollow\">Twitter for Android</a>', u'retweeted': False, u'coordinates': None, u'entities': {u'symbols': [], u'user_mentions': [{u'indices': [3, 12], u'screen_name': u'noigroup', u'id': 70893561, u'name': u'Noigroup', u'id_str': u'70893561'}], u'hashtags': [{u'indices': [64, 72], u'text': u'ep3east'}], u'urls': []}, u'in_reply_to_screen_name': None, u'id_str': u'806226754209808388', u'retweet_count': 19, u'in_reply_to_user_id': None, u'favorited': False, u'retweeted_status': {u'contributors': None, u'truncated': False, u'text': u'Super SIM- \"Laughter is internal jogging!\" Butler #ep3east', u'is_quote_status': False, u'in_reply_to_status_id': None, u'id': 805159866490875905L, u'favorite_count': 24, u'source': u'<a href=\"http://twitter.com/download/iphone\" rel=\"nofollow\">Twitter for iPhone</a>', u'retweeted': False, u'coordinates': None, u'entities': {u'symbols': [], u'user_mentions': [], u'hashtags': [{u'indices': [50, 58], u'text': u'ep3east'}], u'urls': []}, u'in_reply_to_screen_name': None, u'id_str': u'805159866490875905', u'retweet_count': 19, u'in_reply_to_user_id': None, u'favorited': False, u'user': {u'follow_request_sent': None, u'has_extended_profile': False, u'profile_use_background_image': True, u'time_zone': u'Adelaide', u'id': 70893561, u'default_profile': False, u'verified': False, u'profile_text_color': u'333333', u'profile_image_url_https': u'https://pbs.twimg.com/profile_images/2851247317/e2a5870d0c1071c8ab2195612689076c_normal.png', u'profile_sidebar_fill_color': u'000000', u'is_translator': False, u'geo_enabled': False, u'entities': {u'url': {u'urls': [{u'url': u'http://t.co/NkEY9f6O', u'indices': [0, 20], u'expanded_url': u'http://www.noigroup.com', u'display_url': u'noigroup.com'}]}, u'description': {u'urls': []}}, u'followers_count': 10878, u'protected': False, u'id_str': u'70893561', u'default_profile_image': False, u'listed_count': 204, u'lang': u'en', u'utc_offset': 37800, u'statuses_count': 6830, u'description': u'NOI is an active network for health performance, manual therapy, pain management and neurodynamics education.', u'friends_count': 457, u'profile_link_color': u'FF9900', u'profile_image_url': u'http://pbs.twimg.com/profile_images/2851247317/e2a5870d0c1071c8ab2195612689076c_normal.png', u'notifications': None, u'profile_background_image_url_https': u'https://pbs.twimg.com/profile_background_images/378800000062765174/a382fb099b861b2e3cc2d5e504bc2862.jpeg', u'profile_background_color': u'DBE9ED', u'profile_banner_url': u'https://pbs.twimg.com/profile_banners/70893561/1436928880', u'profile_background_image_url': u'http://pbs.twimg.com/profile_background_images/378800000062765174/a382fb099b861b2e3cc2d5e504bc2862.jpeg', u'name': u'Noigroup', u'is_translation_enabled': False, u'profile_background_tile': True, u'favourites_count': 756, u'screen_name': u'noigroup', u'url': u'http://t.co/NkEY9f6O', u'created_at': u'Wed Sep 02 05:42:54 +0000 2009', u'contributors_enabled': False, u'location': u'Adelaide,  Australia', u'profile_sidebar_border_color': u'FFFFFF', u'translator_type': u'none', u'following': None}, u'geo': None, u'in_reply_to_user_id_str': None, u'lang': u'en', u'created_at': u'Sat Dec 03 21:20:45 +0000 2016', u'in_reply_to_status_id_str': None, u'place': None, u'metadata': {u'iso_language_code': u'en', u'result_type': u'recent'}}, u'user': {u'follow_request_sent': None, u'has_extended_profile': False, u'profile_use_background_image': True, u'time_zone': None, u'id': 1452139974, u'default_profile': False, u'verified': False, u'profile_text_color': u'3E4415', u'profile_image_url_https': u'https://pbs.twimg.com/profile_images/568411989534183424/CxeAz9q2_normal.jpeg', u'profile_sidebar_fill_color': u'99CC33', u'is_translator': False, u'geo_enabled': False, u'entities': {u'url': {u'urls': [{u'url': u'https://t.co/WyNA3kRaj1', u'indices': [0, 23], u'expanded_url': u'http://MyCuppaJo.com', u'display_url': u'MyCuppaJo.com'}]}, u'description': {u'urls': [{u'url': u'https://t.co/IhOsPH3PTg', u'indices': [136, 159], u'expanded_url': u'http://instagram.com/mycuppajo/', u'display_url': u'instagram.com/mycuppajo/'}]}}, u'followers_count': 1267, u'protected': False, u'id_str': u'1452139974', u'default_profile_image': False, u'listed_count': 61, u'lang': u'en', u'utc_offset': None, u'statuses_count': 6931, u'description': u'Changing experience of chronic pain through science, movement, mindfulness, & nature. Bridging the gap between patients & practitioners\\nhttps://t.co/IhOsPH3PTg', u'friends_count': 1328, u'profile_link_color': u'2C42CF', u'profile_image_url': u'http://pbs.twimg.com/profile_images/568411989534183424/CxeAz9q2_normal.jpeg', u'notifications': None, u'profile_background_image_url_https': u'https://pbs.twimg.com/profile_background_images/378800000113771369/ae2513501676cc0e80c02c86e5f90570.png', u'profile_background_color': u'B8BADB', u'profile_banner_url': u'https://pbs.twimg.com/profile_banners/1452139974/1419822124', u'profile_background_image_url': u'http://pbs.twimg.com/profile_background_images/378800000113771369/ae2513501676cc0e80c02c86e5f90570.png', u'name': u'Joletta Belton', u'is_translation_enabled': False, u'profile_background_tile': False, u'favourites_count': 1102, u'screen_name': u'MyCuppaJo', u'url': u'https://t.co/WyNA3kRaj1', u'created_at': u'Thu May 23 18:12:36 +0000 2013', u'contributors_enabled': False, u'location': u'', u'profile_sidebar_border_color': u'000000', u'translator_type': u'none', u'following': None}, u'geo': None, u'in_reply_to_user_id_str': None, u'lang': u'en', u'created_at': u'Tue Dec 06 20:00:11 +0000 2016', u'metadata': {u'iso_language_code': u'en', u'result_type': u'recent'}, u'in_reply_to_status_id_str': None, u'place': None, u'_id': ObjectId('58471dc3c54d2d034baceca0')}\n"
     ]
    }
   ],
   "source": [
    "print data_set.find_one()"
   ]
  },
  {
   "cell_type": "markdown",
   "metadata": {},
   "source": [
    "Now I need to change the format of the data to something easier to look at.\n",
    "First, I'll make the database collection into a list of dictionaries, which is easier to work with in Python"
   ]
  },
  {
   "cell_type": "code",
   "execution_count": 9,
   "metadata": {
    "collapsed": false
   },
   "outputs": [],
   "source": [
    "tweet_data = list(data_set.find())"
   ]
  },
  {
   "cell_type": "markdown",
   "metadata": {},
   "source": [
    "Next I'll make that list into a dataframe, which looks more like a spread sheet\n",
    "I'm going to make it a function that I can use over again for the west data set"
   ]
  },
  {
   "cell_type": "code",
   "execution_count": 10,
   "metadata": {
    "collapsed": false
   },
   "outputs": [],
   "source": [
    "def process_results(results):\n",
    "    id_list = [tweet['id'] for tweet in results]\n",
    "    data_set = pd.DataFrame(id_list, columns = [\"id\"])\n",
    "    \n",
    "    data_set['user'] = [tweet['user']['screen_name'] for tweet in results]\n",
    "    data_set[\"text\"] = [tweet['text'] for tweet in results]\n",
    "    data_set[\"retweet_count\"] = [tweet['retweet_count'] for tweet in results]\n",
    "    data_set[\"favorite_count\"] = [tweet['favorite_count'] for tweet in results]\n",
    "    data_set[\"created_at\"] = [tweet['created_at'] for tweet in results]\n",
    "    \n",
    "    return data_set"
   ]
  },
  {
   "cell_type": "markdown",
   "metadata": {},
   "source": [
    "Now I'll use that function to process my data into the dataframe and store it in a variable df"
   ]
  },
  {
   "cell_type": "code",
   "execution_count": 11,
   "metadata": {
    "collapsed": false
   },
   "outputs": [],
   "source": [
    "df_east = process_results(tweet_data)"
   ]
  },
  {
   "cell_type": "markdown",
   "metadata": {},
   "source": [
    "Let's take a look at it.  \n",
    "First I'll check the length, hopefully it's the same as my number of records above.  \n",
    "Then I'll look at the top 5 rows and the bottom 5 rows to make sure it all looks right."
   ]
  },
  {
   "cell_type": "code",
   "execution_count": 12,
   "metadata": {
    "collapsed": false
   },
   "outputs": [
    {
     "data": {
      "text/plain": [
       "2088"
      ]
     },
     "execution_count": 12,
     "metadata": {},
     "output_type": "execute_result"
    }
   ],
   "source": [
    "len(df_east)"
   ]
  },
  {
   "cell_type": "code",
   "execution_count": 13,
   "metadata": {
    "collapsed": false
   },
   "outputs": [
    {
     "data": {
      "text/html": [
       "<div>\n",
       "<table border=\"1\" class=\"dataframe\">\n",
       "  <thead>\n",
       "    <tr style=\"text-align: right;\">\n",
       "      <th></th>\n",
       "      <th>id</th>\n",
       "      <th>user</th>\n",
       "      <th>text</th>\n",
       "      <th>retweet_count</th>\n",
       "      <th>favorite_count</th>\n",
       "      <th>created_at</th>\n",
       "    </tr>\n",
       "  </thead>\n",
       "  <tbody>\n",
       "    <tr>\n",
       "      <th>0</th>\n",
       "      <td>806226754209808388</td>\n",
       "      <td>MyCuppaJo</td>\n",
       "      <td>RT @noigroup: Super SIM- \"Laughter is internal...</td>\n",
       "      <td>19</td>\n",
       "      <td>0</td>\n",
       "      <td>Tue Dec 06 20:00:11 +0000 2016</td>\n",
       "    </tr>\n",
       "    <tr>\n",
       "      <th>1</th>\n",
       "      <td>806185546133413892</td>\n",
       "      <td>leomensi</td>\n",
       "      <td>RT @karenlitzyNYC: Enhancing theta: relaxing t...</td>\n",
       "      <td>9</td>\n",
       "      <td>0</td>\n",
       "      <td>Tue Dec 06 17:16:27 +0000 2016</td>\n",
       "    </tr>\n",
       "    <tr>\n",
       "      <th>2</th>\n",
       "      <td>806142952712060928</td>\n",
       "      <td>NOIgroupUSA</td>\n",
       "      <td>RT @BulletproofRain: Had a great time at the #...</td>\n",
       "      <td>1</td>\n",
       "      <td>0</td>\n",
       "      <td>Tue Dec 06 14:27:11 +0000 2016</td>\n",
       "    </tr>\n",
       "    <tr>\n",
       "      <th>3</th>\n",
       "      <td>806134504930897922</td>\n",
       "      <td>AresoPaula</td>\n",
       "      <td>RT @noigroup: How does hypnosis work? Increasi...</td>\n",
       "      <td>4</td>\n",
       "      <td>0</td>\n",
       "      <td>Tue Dec 06 13:53:37 +0000 2016</td>\n",
       "    </tr>\n",
       "    <tr>\n",
       "      <th>4</th>\n",
       "      <td>806043332535349248</td>\n",
       "      <td>SallyThinks</td>\n",
       "      <td>RT @noigroup: Ships are safest in the Harbor, ...</td>\n",
       "      <td>10</td>\n",
       "      <td>0</td>\n",
       "      <td>Tue Dec 06 07:51:20 +0000 2016</td>\n",
       "    </tr>\n",
       "  </tbody>\n",
       "</table>\n",
       "</div>"
      ],
      "text/plain": [
       "                   id         user  \\\n",
       "0  806226754209808388    MyCuppaJo   \n",
       "1  806185546133413892     leomensi   \n",
       "2  806142952712060928  NOIgroupUSA   \n",
       "3  806134504930897922   AresoPaula   \n",
       "4  806043332535349248  SallyThinks   \n",
       "\n",
       "                                                text  retweet_count  \\\n",
       "0  RT @noigroup: Super SIM- \"Laughter is internal...             19   \n",
       "1  RT @karenlitzyNYC: Enhancing theta: relaxing t...              9   \n",
       "2  RT @BulletproofRain: Had a great time at the #...              1   \n",
       "3  RT @noigroup: How does hypnosis work? Increasi...              4   \n",
       "4  RT @noigroup: Ships are safest in the Harbor, ...             10   \n",
       "\n",
       "   favorite_count                      created_at  \n",
       "0               0  Tue Dec 06 20:00:11 +0000 2016  \n",
       "1               0  Tue Dec 06 17:16:27 +0000 2016  \n",
       "2               0  Tue Dec 06 14:27:11 +0000 2016  \n",
       "3               0  Tue Dec 06 13:53:37 +0000 2016  \n",
       "4               0  Tue Dec 06 07:51:20 +0000 2016  "
      ]
     },
     "execution_count": 13,
     "metadata": {},
     "output_type": "execute_result"
    }
   ],
   "source": [
    "df_east.head()"
   ]
  },
  {
   "cell_type": "code",
   "execution_count": 14,
   "metadata": {
    "collapsed": false
   },
   "outputs": [
    {
     "data": {
      "text/html": [
       "<div>\n",
       "<table border=\"1\" class=\"dataframe\">\n",
       "  <thead>\n",
       "    <tr style=\"text-align: right;\">\n",
       "      <th></th>\n",
       "      <th>id</th>\n",
       "      <th>user</th>\n",
       "      <th>text</th>\n",
       "      <th>retweet_count</th>\n",
       "      <th>favorite_count</th>\n",
       "      <th>created_at</th>\n",
       "    </tr>\n",
       "  </thead>\n",
       "  <tbody>\n",
       "    <tr>\n",
       "      <th>2083</th>\n",
       "      <td>804482458288697344</td>\n",
       "      <td>noigroup</td>\n",
       "      <td>The comedic process…\\nhttps://t.co/tHaLN4MB21\\...</td>\n",
       "      <td>0</td>\n",
       "      <td>2</td>\n",
       "      <td>Fri Dec 02 00:28:59 +0000 2016</td>\n",
       "    </tr>\n",
       "    <tr>\n",
       "      <th>2084</th>\n",
       "      <td>804482095535964161</td>\n",
       "      <td>noigroup</td>\n",
       "      <td>Is failing at stand-up similar to failing at E...</td>\n",
       "      <td>5</td>\n",
       "      <td>4</td>\n",
       "      <td>Fri Dec 02 00:27:32 +0000 2016</td>\n",
       "    </tr>\n",
       "    <tr>\n",
       "      <th>2085</th>\n",
       "      <td>804475821712736256</td>\n",
       "      <td>noigroup</td>\n",
       "      <td>RT @CodyWeisbach: @karenlitzyNYC @noigroup gre...</td>\n",
       "      <td>1</td>\n",
       "      <td>0</td>\n",
       "      <td>Fri Dec 02 00:02:36 +0000 2016</td>\n",
       "    </tr>\n",
       "    <tr>\n",
       "      <th>2086</th>\n",
       "      <td>804444534960783360</td>\n",
       "      <td>CodyWeisbach</td>\n",
       "      <td>@karenlitzyNYC @noigroup great! See you at #ep...</td>\n",
       "      <td>1</td>\n",
       "      <td>1</td>\n",
       "      <td>Thu Dec 01 21:58:17 +0000 2016</td>\n",
       "    </tr>\n",
       "    <tr>\n",
       "      <th>2087</th>\n",
       "      <td>804128249156616192</td>\n",
       "      <td>karenlitzyNYC</td>\n",
       "      <td>GMI w/ David Butler was so good! I highly reco...</td>\n",
       "      <td>3</td>\n",
       "      <td>10</td>\n",
       "      <td>Thu Dec 01 01:01:29 +0000 2016</td>\n",
       "    </tr>\n",
       "  </tbody>\n",
       "</table>\n",
       "</div>"
      ],
      "text/plain": [
       "                      id           user  \\\n",
       "2083  804482458288697344       noigroup   \n",
       "2084  804482095535964161       noigroup   \n",
       "2085  804475821712736256       noigroup   \n",
       "2086  804444534960783360   CodyWeisbach   \n",
       "2087  804128249156616192  karenlitzyNYC   \n",
       "\n",
       "                                                   text  retweet_count  \\\n",
       "2083  The comedic process…\\nhttps://t.co/tHaLN4MB21\\...              0   \n",
       "2084  Is failing at stand-up similar to failing at E...              5   \n",
       "2085  RT @CodyWeisbach: @karenlitzyNYC @noigroup gre...              1   \n",
       "2086  @karenlitzyNYC @noigroup great! See you at #ep...              1   \n",
       "2087  GMI w/ David Butler was so good! I highly reco...              3   \n",
       "\n",
       "      favorite_count                      created_at  \n",
       "2083               2  Fri Dec 02 00:28:59 +0000 2016  \n",
       "2084               4  Fri Dec 02 00:27:32 +0000 2016  \n",
       "2085               0  Fri Dec 02 00:02:36 +0000 2016  \n",
       "2086               1  Thu Dec 01 21:58:17 +0000 2016  \n",
       "2087              10  Thu Dec 01 01:01:29 +0000 2016  "
      ]
     },
     "execution_count": 14,
     "metadata": {},
     "output_type": "execute_result"
    }
   ],
   "source": [
    "df_east.tail()"
   ]
  },
  {
   "cell_type": "markdown",
   "metadata": {},
   "source": [
    "It all looks good.  \n",
    "Now I need to change the 'created_at' column to a different format that will make is easier for me to split up the data sets. "
   ]
  },
  {
   "cell_type": "code",
   "execution_count": 15,
   "metadata": {
    "collapsed": true
   },
   "outputs": [],
   "source": [
    "df_east['created_at'] = pd.to_datetime(df_east['created_at'])"
   ]
  },
  {
   "cell_type": "code",
   "execution_count": 16,
   "metadata": {
    "collapsed": false
   },
   "outputs": [
    {
     "data": {
      "text/html": [
       "<div>\n",
       "<table border=\"1\" class=\"dataframe\">\n",
       "  <thead>\n",
       "    <tr style=\"text-align: right;\">\n",
       "      <th></th>\n",
       "      <th>id</th>\n",
       "      <th>user</th>\n",
       "      <th>text</th>\n",
       "      <th>retweet_count</th>\n",
       "      <th>favorite_count</th>\n",
       "      <th>created_at</th>\n",
       "    </tr>\n",
       "  </thead>\n",
       "  <tbody>\n",
       "    <tr>\n",
       "      <th>0</th>\n",
       "      <td>806226754209808388</td>\n",
       "      <td>MyCuppaJo</td>\n",
       "      <td>RT @noigroup: Super SIM- \"Laughter is internal...</td>\n",
       "      <td>19</td>\n",
       "      <td>0</td>\n",
       "      <td>2016-12-06 20:00:11</td>\n",
       "    </tr>\n",
       "    <tr>\n",
       "      <th>1</th>\n",
       "      <td>806185546133413892</td>\n",
       "      <td>leomensi</td>\n",
       "      <td>RT @karenlitzyNYC: Enhancing theta: relaxing t...</td>\n",
       "      <td>9</td>\n",
       "      <td>0</td>\n",
       "      <td>2016-12-06 17:16:27</td>\n",
       "    </tr>\n",
       "    <tr>\n",
       "      <th>2</th>\n",
       "      <td>806142952712060928</td>\n",
       "      <td>NOIgroupUSA</td>\n",
       "      <td>RT @BulletproofRain: Had a great time at the #...</td>\n",
       "      <td>1</td>\n",
       "      <td>0</td>\n",
       "      <td>2016-12-06 14:27:11</td>\n",
       "    </tr>\n",
       "    <tr>\n",
       "      <th>3</th>\n",
       "      <td>806134504930897922</td>\n",
       "      <td>AresoPaula</td>\n",
       "      <td>RT @noigroup: How does hypnosis work? Increasi...</td>\n",
       "      <td>4</td>\n",
       "      <td>0</td>\n",
       "      <td>2016-12-06 13:53:37</td>\n",
       "    </tr>\n",
       "    <tr>\n",
       "      <th>4</th>\n",
       "      <td>806043332535349248</td>\n",
       "      <td>SallyThinks</td>\n",
       "      <td>RT @noigroup: Ships are safest in the Harbor, ...</td>\n",
       "      <td>10</td>\n",
       "      <td>0</td>\n",
       "      <td>2016-12-06 07:51:20</td>\n",
       "    </tr>\n",
       "  </tbody>\n",
       "</table>\n",
       "</div>"
      ],
      "text/plain": [
       "                   id         user  \\\n",
       "0  806226754209808388    MyCuppaJo   \n",
       "1  806185546133413892     leomensi   \n",
       "2  806142952712060928  NOIgroupUSA   \n",
       "3  806134504930897922   AresoPaula   \n",
       "4  806043332535349248  SallyThinks   \n",
       "\n",
       "                                                text  retweet_count  \\\n",
       "0  RT @noigroup: Super SIM- \"Laughter is internal...             19   \n",
       "1  RT @karenlitzyNYC: Enhancing theta: relaxing t...              9   \n",
       "2  RT @BulletproofRain: Had a great time at the #...              1   \n",
       "3  RT @noigroup: How does hypnosis work? Increasi...              4   \n",
       "4  RT @noigroup: Ships are safest in the Harbor, ...             10   \n",
       "\n",
       "   favorite_count          created_at  \n",
       "0               0 2016-12-06 20:00:11  \n",
       "1               0 2016-12-06 17:16:27  \n",
       "2               0 2016-12-06 14:27:11  \n",
       "3               0 2016-12-06 13:53:37  \n",
       "4               0 2016-12-06 07:51:20  "
      ]
     },
     "execution_count": 16,
     "metadata": {},
     "output_type": "execute_result"
    }
   ],
   "source": [
    "df_east.head()"
   ]
  },
  {
   "cell_type": "markdown",
   "metadata": {},
   "source": [
    "Now I'll make a new column that adds retweets plus favorites. That will give some idea of the importance of a particular tweet. "
   ]
  },
  {
   "cell_type": "code",
   "execution_count": 17,
   "metadata": {
    "collapsed": false
   },
   "outputs": [
    {
     "data": {
      "text/html": [
       "<div>\n",
       "<table border=\"1\" class=\"dataframe\">\n",
       "  <thead>\n",
       "    <tr style=\"text-align: right;\">\n",
       "      <th></th>\n",
       "      <th>id</th>\n",
       "      <th>user</th>\n",
       "      <th>text</th>\n",
       "      <th>retweet_count</th>\n",
       "      <th>favorite_count</th>\n",
       "      <th>created_at</th>\n",
       "      <th>important_tweets</th>\n",
       "    </tr>\n",
       "  </thead>\n",
       "  <tbody>\n",
       "    <tr>\n",
       "      <th>0</th>\n",
       "      <td>806226754209808388</td>\n",
       "      <td>MyCuppaJo</td>\n",
       "      <td>RT @noigroup: Super SIM- \"Laughter is internal...</td>\n",
       "      <td>19</td>\n",
       "      <td>0</td>\n",
       "      <td>2016-12-06 20:00:11</td>\n",
       "      <td>19</td>\n",
       "    </tr>\n",
       "    <tr>\n",
       "      <th>1</th>\n",
       "      <td>806185546133413892</td>\n",
       "      <td>leomensi</td>\n",
       "      <td>RT @karenlitzyNYC: Enhancing theta: relaxing t...</td>\n",
       "      <td>9</td>\n",
       "      <td>0</td>\n",
       "      <td>2016-12-06 17:16:27</td>\n",
       "      <td>9</td>\n",
       "    </tr>\n",
       "    <tr>\n",
       "      <th>2</th>\n",
       "      <td>806142952712060928</td>\n",
       "      <td>NOIgroupUSA</td>\n",
       "      <td>RT @BulletproofRain: Had a great time at the #...</td>\n",
       "      <td>1</td>\n",
       "      <td>0</td>\n",
       "      <td>2016-12-06 14:27:11</td>\n",
       "      <td>1</td>\n",
       "    </tr>\n",
       "    <tr>\n",
       "      <th>3</th>\n",
       "      <td>806134504930897922</td>\n",
       "      <td>AresoPaula</td>\n",
       "      <td>RT @noigroup: How does hypnosis work? Increasi...</td>\n",
       "      <td>4</td>\n",
       "      <td>0</td>\n",
       "      <td>2016-12-06 13:53:37</td>\n",
       "      <td>4</td>\n",
       "    </tr>\n",
       "    <tr>\n",
       "      <th>4</th>\n",
       "      <td>806043332535349248</td>\n",
       "      <td>SallyThinks</td>\n",
       "      <td>RT @noigroup: Ships are safest in the Harbor, ...</td>\n",
       "      <td>10</td>\n",
       "      <td>0</td>\n",
       "      <td>2016-12-06 07:51:20</td>\n",
       "      <td>10</td>\n",
       "    </tr>\n",
       "  </tbody>\n",
       "</table>\n",
       "</div>"
      ],
      "text/plain": [
       "                   id         user  \\\n",
       "0  806226754209808388    MyCuppaJo   \n",
       "1  806185546133413892     leomensi   \n",
       "2  806142952712060928  NOIgroupUSA   \n",
       "3  806134504930897922   AresoPaula   \n",
       "4  806043332535349248  SallyThinks   \n",
       "\n",
       "                                                text  retweet_count  \\\n",
       "0  RT @noigroup: Super SIM- \"Laughter is internal...             19   \n",
       "1  RT @karenlitzyNYC: Enhancing theta: relaxing t...              9   \n",
       "2  RT @BulletproofRain: Had a great time at the #...              1   \n",
       "3  RT @noigroup: How does hypnosis work? Increasi...              4   \n",
       "4  RT @noigroup: Ships are safest in the Harbor, ...             10   \n",
       "\n",
       "   favorite_count          created_at  important_tweets  \n",
       "0               0 2016-12-06 20:00:11                19  \n",
       "1               0 2016-12-06 17:16:27                 9  \n",
       "2               0 2016-12-06 14:27:11                 1  \n",
       "3               0 2016-12-06 13:53:37                 4  \n",
       "4               0 2016-12-06 07:51:20                10  "
      ]
     },
     "execution_count": 17,
     "metadata": {},
     "output_type": "execute_result"
    }
   ],
   "source": [
    "df_east['important_tweets'] = df_east['retweet_count'] + df_east['favorite_count']\n",
    "df_east.head()"
   ]
  },
  {
   "cell_type": "markdown",
   "metadata": {
    "collapsed": false
   },
   "source": [
    "Next, we to adjust the data set to only look at origional tweets, not retweets. "
   ]
  },
  {
   "cell_type": "markdown",
   "metadata": {},
   "source": [
    "First, I'll make a column looking at whether or not is was retweeted"
   ]
  },
  {
   "cell_type": "code",
   "execution_count": 18,
   "metadata": {
    "collapsed": false
   },
   "outputs": [],
   "source": [
    "df_east['retweeted'] = df_east['text'].str.startswith('RT')"
   ]
  },
  {
   "cell_type": "code",
   "execution_count": 19,
   "metadata": {
    "collapsed": false
   },
   "outputs": [
    {
     "data": {
      "text/html": [
       "<div>\n",
       "<table border=\"1\" class=\"dataframe\">\n",
       "  <thead>\n",
       "    <tr style=\"text-align: right;\">\n",
       "      <th></th>\n",
       "      <th>id</th>\n",
       "      <th>user</th>\n",
       "      <th>text</th>\n",
       "      <th>retweet_count</th>\n",
       "      <th>favorite_count</th>\n",
       "      <th>created_at</th>\n",
       "      <th>important_tweets</th>\n",
       "      <th>retweeted</th>\n",
       "    </tr>\n",
       "  </thead>\n",
       "  <tbody>\n",
       "    <tr>\n",
       "      <th>0</th>\n",
       "      <td>806226754209808388</td>\n",
       "      <td>MyCuppaJo</td>\n",
       "      <td>RT @noigroup: Super SIM- \"Laughter is internal...</td>\n",
       "      <td>19</td>\n",
       "      <td>0</td>\n",
       "      <td>2016-12-06 20:00:11</td>\n",
       "      <td>19</td>\n",
       "      <td>True</td>\n",
       "    </tr>\n",
       "    <tr>\n",
       "      <th>1</th>\n",
       "      <td>806185546133413892</td>\n",
       "      <td>leomensi</td>\n",
       "      <td>RT @karenlitzyNYC: Enhancing theta: relaxing t...</td>\n",
       "      <td>9</td>\n",
       "      <td>0</td>\n",
       "      <td>2016-12-06 17:16:27</td>\n",
       "      <td>9</td>\n",
       "      <td>True</td>\n",
       "    </tr>\n",
       "    <tr>\n",
       "      <th>2</th>\n",
       "      <td>806142952712060928</td>\n",
       "      <td>NOIgroupUSA</td>\n",
       "      <td>RT @BulletproofRain: Had a great time at the #...</td>\n",
       "      <td>1</td>\n",
       "      <td>0</td>\n",
       "      <td>2016-12-06 14:27:11</td>\n",
       "      <td>1</td>\n",
       "      <td>True</td>\n",
       "    </tr>\n",
       "    <tr>\n",
       "      <th>3</th>\n",
       "      <td>806134504930897922</td>\n",
       "      <td>AresoPaula</td>\n",
       "      <td>RT @noigroup: How does hypnosis work? Increasi...</td>\n",
       "      <td>4</td>\n",
       "      <td>0</td>\n",
       "      <td>2016-12-06 13:53:37</td>\n",
       "      <td>4</td>\n",
       "      <td>True</td>\n",
       "    </tr>\n",
       "    <tr>\n",
       "      <th>4</th>\n",
       "      <td>806043332535349248</td>\n",
       "      <td>SallyThinks</td>\n",
       "      <td>RT @noigroup: Ships are safest in the Harbor, ...</td>\n",
       "      <td>10</td>\n",
       "      <td>0</td>\n",
       "      <td>2016-12-06 07:51:20</td>\n",
       "      <td>10</td>\n",
       "      <td>True</td>\n",
       "    </tr>\n",
       "  </tbody>\n",
       "</table>\n",
       "</div>"
      ],
      "text/plain": [
       "                   id         user  \\\n",
       "0  806226754209808388    MyCuppaJo   \n",
       "1  806185546133413892     leomensi   \n",
       "2  806142952712060928  NOIgroupUSA   \n",
       "3  806134504930897922   AresoPaula   \n",
       "4  806043332535349248  SallyThinks   \n",
       "\n",
       "                                                text  retweet_count  \\\n",
       "0  RT @noigroup: Super SIM- \"Laughter is internal...             19   \n",
       "1  RT @karenlitzyNYC: Enhancing theta: relaxing t...              9   \n",
       "2  RT @BulletproofRain: Had a great time at the #...              1   \n",
       "3  RT @noigroup: How does hypnosis work? Increasi...              4   \n",
       "4  RT @noigroup: Ships are safest in the Harbor, ...             10   \n",
       "\n",
       "   favorite_count          created_at  important_tweets retweeted  \n",
       "0               0 2016-12-06 20:00:11                19      True  \n",
       "1               0 2016-12-06 17:16:27                 9      True  \n",
       "2               0 2016-12-06 14:27:11                 1      True  \n",
       "3               0 2016-12-06 13:53:37                 4      True  \n",
       "4               0 2016-12-06 07:51:20                10      True  "
      ]
     },
     "execution_count": 19,
     "metadata": {},
     "output_type": "execute_result"
    }
   ],
   "source": [
    "df_east.head()"
   ]
  },
  {
   "cell_type": "markdown",
   "metadata": {},
   "source": [
    "Now I'll include only the oritional tweets in the data set. \n",
    "Then I'll look at how many we have"
   ]
  },
  {
   "cell_type": "code",
   "execution_count": 20,
   "metadata": {
    "collapsed": false
   },
   "outputs": [
    {
     "data": {
      "text/plain": [
       "664"
      ]
     },
     "execution_count": 20,
     "metadata": {},
     "output_type": "execute_result"
    }
   ],
   "source": [
    "df_east = df_east[df_east['retweeted'] == False]\n",
    "len(df_east)"
   ]
  },
  {
   "cell_type": "markdown",
   "metadata": {},
   "source": [
    "So, the variable df is our dataset for the full ep3east conference. \n",
    "Before we run our analyses, let's make a data set for each day and see how many origional tweets are in each one. "
   ]
  },
  {
   "cell_type": "markdown",
   "metadata": {},
   "source": [
    "Day 1 - 12/2/16"
   ]
  },
  {
   "cell_type": "code",
   "execution_count": 21,
   "metadata": {
    "collapsed": false
   },
   "outputs": [
    {
     "data": {
      "text/plain": [
       "247"
      ]
     },
     "execution_count": 21,
     "metadata": {},
     "output_type": "execute_result"
    }
   ],
   "source": [
    "east1 = df_east[df_east['created_at'] < '2016-12-03']\n",
    "len(east1)"
   ]
  },
  {
   "cell_type": "markdown",
   "metadata": {},
   "source": [
    "Day 2- 12/3/16"
   ]
  },
  {
   "cell_type": "code",
   "execution_count": 22,
   "metadata": {
    "collapsed": false
   },
   "outputs": [
    {
     "data": {
      "text/plain": [
       "254"
      ]
     },
     "execution_count": 22,
     "metadata": {},
     "output_type": "execute_result"
    }
   ],
   "source": [
    "df1 = df_east[df_east['created_at'] > '2016-12-03']\n",
    "east2 = df1[df1['created_at'] < '2016-12-04']\n",
    "len(east2)"
   ]
  },
  {
   "cell_type": "markdown",
   "metadata": {},
   "source": [
    "Day 3- 12/4/16"
   ]
  },
  {
   "cell_type": "code",
   "execution_count": 23,
   "metadata": {
    "collapsed": false
   },
   "outputs": [
    {
     "data": {
      "text/plain": [
       "163"
      ]
     },
     "execution_count": 23,
     "metadata": {},
     "output_type": "execute_result"
    }
   ],
   "source": [
    "east3 = df_east[df_east['created_at'] > '2016-12-04']\n",
    "len(east3)"
   ]
  },
  {
   "cell_type": "markdown",
   "metadata": {},
   "source": [
    "Next, let's look at some numbers from the full conference data set.   \n",
    "We have total tweets (664). Let's also look at...  \n",
    "Total retweets  \n",
    "Total favorites  "
   ]
  },
  {
   "cell_type": "code",
   "execution_count": 24,
   "metadata": {
    "collapsed": false
   },
   "outputs": [
    {
     "name": "stdout",
     "output_type": "stream",
     "text": [
      "1926\n",
      "2733\n"
     ]
    }
   ],
   "source": [
    "east_retweets = df_east['retweet_count'].sum()\n",
    "print east_retweets\n",
    "east_favorites = df_east['favorite_count'].sum()\n",
    "print east_favorites"
   ]
  },
  {
   "cell_type": "markdown",
   "metadata": {},
   "source": [
    "Now let's look at the 10 most importatn tweets.  \n",
    "First we'll sort the data by \"important_tweets\" to with highest number on top.  \n",
    "Then we'll show the top 10"
   ]
  },
  {
   "cell_type": "code",
   "execution_count": 25,
   "metadata": {
    "collapsed": false
   },
   "outputs": [
    {
     "data": {
      "text/html": [
       "<div>\n",
       "<table border=\"1\" class=\"dataframe\">\n",
       "  <thead>\n",
       "    <tr style=\"text-align: right;\">\n",
       "      <th></th>\n",
       "      <th>id</th>\n",
       "      <th>user</th>\n",
       "      <th>text</th>\n",
       "      <th>retweet_count</th>\n",
       "      <th>favorite_count</th>\n",
       "      <th>created_at</th>\n",
       "      <th>important_tweets</th>\n",
       "      <th>retweeted</th>\n",
       "    </tr>\n",
       "  </thead>\n",
       "  <tbody>\n",
       "    <tr>\n",
       "      <th>1079</th>\n",
       "      <td>805077588922273793</td>\n",
       "      <td>noigroup</td>\n",
       "      <td>We DO NOT fix our patients. Our work is to cre...</td>\n",
       "      <td>63</td>\n",
       "      <td>63</td>\n",
       "      <td>2016-12-03 15:53:49</td>\n",
       "      <td>126</td>\n",
       "      <td>False</td>\n",
       "    </tr>\n",
       "    <tr>\n",
       "      <th>344</th>\n",
       "      <td>805430418166124544</td>\n",
       "      <td>traceyvincel</td>\n",
       "      <td>\"It's by bioplasticity that got you into pain ...</td>\n",
       "      <td>53</td>\n",
       "      <td>72</td>\n",
       "      <td>2016-12-04 15:15:50</td>\n",
       "      <td>125</td>\n",
       "      <td>False</td>\n",
       "    </tr>\n",
       "    <tr>\n",
       "      <th>1684</th>\n",
       "      <td>804732235035406336</td>\n",
       "      <td>noigroup</td>\n",
       "      <td>Moseley quoting Thacker. The job of the clinic...</td>\n",
       "      <td>25</td>\n",
       "      <td>49</td>\n",
       "      <td>2016-12-02 17:01:30</td>\n",
       "      <td>74</td>\n",
       "      <td>False</td>\n",
       "    </tr>\n",
       "    <tr>\n",
       "      <th>709</th>\n",
       "      <td>805150956585385986</td>\n",
       "      <td>noigroup</td>\n",
       "      <td>\"nociception is neither sufficient nor necessa...</td>\n",
       "      <td>32</td>\n",
       "      <td>41</td>\n",
       "      <td>2016-12-03 20:45:21</td>\n",
       "      <td>73</td>\n",
       "      <td>False</td>\n",
       "    </tr>\n",
       "    <tr>\n",
       "      <th>2021</th>\n",
       "      <td>804685603560427520</td>\n",
       "      <td>karenlitzyNYC</td>\n",
       "      <td>Thinking you have Pain sensors in your foot is...</td>\n",
       "      <td>26</td>\n",
       "      <td>40</td>\n",
       "      <td>2016-12-02 13:56:12</td>\n",
       "      <td>66</td>\n",
       "      <td>False</td>\n",
       "    </tr>\n",
       "    <tr>\n",
       "      <th>1078</th>\n",
       "      <td>805077711387553797</td>\n",
       "      <td>karenlitzyNYC</td>\n",
       "      <td>As the clinician we have to stop taking respon...</td>\n",
       "      <td>23</td>\n",
       "      <td>42</td>\n",
       "      <td>2016-12-03 15:54:18</td>\n",
       "      <td>65</td>\n",
       "      <td>False</td>\n",
       "    </tr>\n",
       "    <tr>\n",
       "      <th>1746</th>\n",
       "      <td>804717682142617604</td>\n",
       "      <td>noigroup</td>\n",
       "      <td>Pain is TOTALLY dependent on context. @bodyinm...</td>\n",
       "      <td>25</td>\n",
       "      <td>32</td>\n",
       "      <td>2016-12-02 16:03:41</td>\n",
       "      <td>57</td>\n",
       "      <td>False</td>\n",
       "    </tr>\n",
       "    <tr>\n",
       "      <th>115</th>\n",
       "      <td>805511401120919557</td>\n",
       "      <td>noigroup</td>\n",
       "      <td>A nugget for patients: the nerve only takes up...</td>\n",
       "      <td>15</td>\n",
       "      <td>36</td>\n",
       "      <td>2016-12-04 20:37:38</td>\n",
       "      <td>51</td>\n",
       "      <td>False</td>\n",
       "    </tr>\n",
       "    <tr>\n",
       "      <th>697</th>\n",
       "      <td>805154419021115393</td>\n",
       "      <td>noigroup</td>\n",
       "      <td>Moseley when the system is upregulated- \"you a...</td>\n",
       "      <td>24</td>\n",
       "      <td>25</td>\n",
       "      <td>2016-12-03 20:59:07</td>\n",
       "      <td>49</td>\n",
       "      <td>False</td>\n",
       "    </tr>\n",
       "    <tr>\n",
       "      <th>349</th>\n",
       "      <td>805429605175795712</td>\n",
       "      <td>traceyvincel</td>\n",
       "      <td>Don't get hijacked by chronic pain \"We grow ne...</td>\n",
       "      <td>18</td>\n",
       "      <td>29</td>\n",
       "      <td>2016-12-04 15:12:36</td>\n",
       "      <td>47</td>\n",
       "      <td>False</td>\n",
       "    </tr>\n",
       "  </tbody>\n",
       "</table>\n",
       "</div>"
      ],
      "text/plain": [
       "                      id           user  \\\n",
       "1079  805077588922273793       noigroup   \n",
       "344   805430418166124544   traceyvincel   \n",
       "1684  804732235035406336       noigroup   \n",
       "709   805150956585385986       noigroup   \n",
       "2021  804685603560427520  karenlitzyNYC   \n",
       "1078  805077711387553797  karenlitzyNYC   \n",
       "1746  804717682142617604       noigroup   \n",
       "115   805511401120919557       noigroup   \n",
       "697   805154419021115393       noigroup   \n",
       "349   805429605175795712   traceyvincel   \n",
       "\n",
       "                                                   text  retweet_count  \\\n",
       "1079  We DO NOT fix our patients. Our work is to cre...             63   \n",
       "344   \"It's by bioplasticity that got you into pain ...             53   \n",
       "1684  Moseley quoting Thacker. The job of the clinic...             25   \n",
       "709   \"nociception is neither sufficient nor necessa...             32   \n",
       "2021  Thinking you have Pain sensors in your foot is...             26   \n",
       "1078  As the clinician we have to stop taking respon...             23   \n",
       "1746  Pain is TOTALLY dependent on context. @bodyinm...             25   \n",
       "115   A nugget for patients: the nerve only takes up...             15   \n",
       "697   Moseley when the system is upregulated- \"you a...             24   \n",
       "349   Don't get hijacked by chronic pain \"We grow ne...             18   \n",
       "\n",
       "      favorite_count          created_at  important_tweets retweeted  \n",
       "1079              63 2016-12-03 15:53:49               126     False  \n",
       "344               72 2016-12-04 15:15:50               125     False  \n",
       "1684              49 2016-12-02 17:01:30                74     False  \n",
       "709               41 2016-12-03 20:45:21                73     False  \n",
       "2021              40 2016-12-02 13:56:12                66     False  \n",
       "1078              42 2016-12-03 15:54:18                65     False  \n",
       "1746              32 2016-12-02 16:03:41                57     False  \n",
       "115               36 2016-12-04 20:37:38                51     False  \n",
       "697               25 2016-12-03 20:59:07                49     False  \n",
       "349               29 2016-12-04 15:12:36                47     False  "
      ]
     },
     "execution_count": 25,
     "metadata": {},
     "output_type": "execute_result"
    }
   ],
   "source": [
    "sorted_east = df_east.sort_values(['important_tweets'], ascending = False)\n",
    "sorted_east.head(10)"
   ]
  },
  {
   "cell_type": "markdown",
   "metadata": {
    "collapsed": false
   },
   "source": [
    "Now to do the same things for days 1, 2 and 3 individually  \n",
    "For these we'll just get the top 5 tweets of the day"
   ]
  },
  {
   "cell_type": "markdown",
   "metadata": {},
   "source": [
    "Day 1"
   ]
  },
  {
   "cell_type": "code",
   "execution_count": 26,
   "metadata": {
    "collapsed": false
   },
   "outputs": [
    {
     "name": "stdout",
     "output_type": "stream",
     "text": [
      "648\n",
      "878\n"
     ]
    }
   ],
   "source": [
    "east1_retweets = east1['retweet_count'].sum()\n",
    "print east1_retweets\n",
    "east1_favorites = east1['favorite_count'].sum()\n",
    "print east1_favorites"
   ]
  },
  {
   "cell_type": "code",
   "execution_count": 27,
   "metadata": {
    "collapsed": false
   },
   "outputs": [
    {
     "data": {
      "text/html": [
       "<div>\n",
       "<table border=\"1\" class=\"dataframe\">\n",
       "  <thead>\n",
       "    <tr style=\"text-align: right;\">\n",
       "      <th></th>\n",
       "      <th>id</th>\n",
       "      <th>user</th>\n",
       "      <th>text</th>\n",
       "      <th>retweet_count</th>\n",
       "      <th>favorite_count</th>\n",
       "      <th>created_at</th>\n",
       "      <th>important_tweets</th>\n",
       "      <th>retweeted</th>\n",
       "    </tr>\n",
       "  </thead>\n",
       "  <tbody>\n",
       "    <tr>\n",
       "      <th>1684</th>\n",
       "      <td>804732235035406336</td>\n",
       "      <td>noigroup</td>\n",
       "      <td>Moseley quoting Thacker. The job of the clinic...</td>\n",
       "      <td>25</td>\n",
       "      <td>49</td>\n",
       "      <td>2016-12-02 17:01:30</td>\n",
       "      <td>74</td>\n",
       "      <td>False</td>\n",
       "    </tr>\n",
       "    <tr>\n",
       "      <th>2021</th>\n",
       "      <td>804685603560427520</td>\n",
       "      <td>karenlitzyNYC</td>\n",
       "      <td>Thinking you have Pain sensors in your foot is...</td>\n",
       "      <td>26</td>\n",
       "      <td>40</td>\n",
       "      <td>2016-12-02 13:56:12</td>\n",
       "      <td>66</td>\n",
       "      <td>False</td>\n",
       "    </tr>\n",
       "    <tr>\n",
       "      <th>1746</th>\n",
       "      <td>804717682142617604</td>\n",
       "      <td>noigroup</td>\n",
       "      <td>Pain is TOTALLY dependent on context. @bodyinm...</td>\n",
       "      <td>25</td>\n",
       "      <td>32</td>\n",
       "      <td>2016-12-02 16:03:41</td>\n",
       "      <td>57</td>\n",
       "      <td>False</td>\n",
       "    </tr>\n",
       "    <tr>\n",
       "      <th>1542</th>\n",
       "      <td>804769235297771520</td>\n",
       "      <td>karenlitzyNYC</td>\n",
       "      <td>#ep3east I am just going to leave this here. @...</td>\n",
       "      <td>10</td>\n",
       "      <td>25</td>\n",
       "      <td>2016-12-02 19:28:32</td>\n",
       "      <td>35</td>\n",
       "      <td>False</td>\n",
       "    </tr>\n",
       "    <tr>\n",
       "      <th>1877</th>\n",
       "      <td>804701826385924096</td>\n",
       "      <td>karenlitzyNYC</td>\n",
       "      <td>Pain doesn't enter the brain it only comes out...</td>\n",
       "      <td>15</td>\n",
       "      <td>17</td>\n",
       "      <td>2016-12-02 15:00:40</td>\n",
       "      <td>32</td>\n",
       "      <td>False</td>\n",
       "    </tr>\n",
       "  </tbody>\n",
       "</table>\n",
       "</div>"
      ],
      "text/plain": [
       "                      id           user  \\\n",
       "1684  804732235035406336       noigroup   \n",
       "2021  804685603560427520  karenlitzyNYC   \n",
       "1746  804717682142617604       noigroup   \n",
       "1542  804769235297771520  karenlitzyNYC   \n",
       "1877  804701826385924096  karenlitzyNYC   \n",
       "\n",
       "                                                   text  retweet_count  \\\n",
       "1684  Moseley quoting Thacker. The job of the clinic...             25   \n",
       "2021  Thinking you have Pain sensors in your foot is...             26   \n",
       "1746  Pain is TOTALLY dependent on context. @bodyinm...             25   \n",
       "1542  #ep3east I am just going to leave this here. @...             10   \n",
       "1877  Pain doesn't enter the brain it only comes out...             15   \n",
       "\n",
       "      favorite_count          created_at  important_tweets retweeted  \n",
       "1684              49 2016-12-02 17:01:30                74     False  \n",
       "2021              40 2016-12-02 13:56:12                66     False  \n",
       "1746              32 2016-12-02 16:03:41                57     False  \n",
       "1542              25 2016-12-02 19:28:32                35     False  \n",
       "1877              17 2016-12-02 15:00:40                32     False  "
      ]
     },
     "execution_count": 27,
     "metadata": {},
     "output_type": "execute_result"
    }
   ],
   "source": [
    "east1sorted_df = east1.sort_values(['important_tweets'], ascending = False)\n",
    "east1sorted_df.head(5)"
   ]
  },
  {
   "cell_type": "markdown",
   "metadata": {},
   "source": [
    "Day 2"
   ]
  },
  {
   "cell_type": "code",
   "execution_count": 28,
   "metadata": {
    "collapsed": false
   },
   "outputs": [
    {
     "name": "stdout",
     "output_type": "stream",
     "text": [
      "795\n",
      "1097\n"
     ]
    }
   ],
   "source": [
    "east2_retweets = east2['retweet_count'].sum()\n",
    "print east2_retweets\n",
    "east2_favorites = east2['favorite_count'].sum()\n",
    "print east2_favorites"
   ]
  },
  {
   "cell_type": "code",
   "execution_count": 29,
   "metadata": {
    "collapsed": false
   },
   "outputs": [
    {
     "data": {
      "text/html": [
       "<div>\n",
       "<table border=\"1\" class=\"dataframe\">\n",
       "  <thead>\n",
       "    <tr style=\"text-align: right;\">\n",
       "      <th></th>\n",
       "      <th>id</th>\n",
       "      <th>user</th>\n",
       "      <th>text</th>\n",
       "      <th>retweet_count</th>\n",
       "      <th>favorite_count</th>\n",
       "      <th>created_at</th>\n",
       "      <th>important_tweets</th>\n",
       "      <th>retweeted</th>\n",
       "    </tr>\n",
       "  </thead>\n",
       "  <tbody>\n",
       "    <tr>\n",
       "      <th>1079</th>\n",
       "      <td>805077588922273793</td>\n",
       "      <td>noigroup</td>\n",
       "      <td>We DO NOT fix our patients. Our work is to cre...</td>\n",
       "      <td>63</td>\n",
       "      <td>63</td>\n",
       "      <td>2016-12-03 15:53:49</td>\n",
       "      <td>126</td>\n",
       "      <td>False</td>\n",
       "    </tr>\n",
       "    <tr>\n",
       "      <th>709</th>\n",
       "      <td>805150956585385986</td>\n",
       "      <td>noigroup</td>\n",
       "      <td>\"nociception is neither sufficient nor necessa...</td>\n",
       "      <td>32</td>\n",
       "      <td>41</td>\n",
       "      <td>2016-12-03 20:45:21</td>\n",
       "      <td>73</td>\n",
       "      <td>False</td>\n",
       "    </tr>\n",
       "    <tr>\n",
       "      <th>1078</th>\n",
       "      <td>805077711387553797</td>\n",
       "      <td>karenlitzyNYC</td>\n",
       "      <td>As the clinician we have to stop taking respon...</td>\n",
       "      <td>23</td>\n",
       "      <td>42</td>\n",
       "      <td>2016-12-03 15:54:18</td>\n",
       "      <td>65</td>\n",
       "      <td>False</td>\n",
       "    </tr>\n",
       "    <tr>\n",
       "      <th>697</th>\n",
       "      <td>805154419021115393</td>\n",
       "      <td>noigroup</td>\n",
       "      <td>Moseley when the system is upregulated- \"you a...</td>\n",
       "      <td>24</td>\n",
       "      <td>25</td>\n",
       "      <td>2016-12-03 20:59:07</td>\n",
       "      <td>49</td>\n",
       "      <td>False</td>\n",
       "    </tr>\n",
       "    <tr>\n",
       "      <th>1043</th>\n",
       "      <td>805080588654936064</td>\n",
       "      <td>karenlitzyNYC</td>\n",
       "      <td>This a million times over! #ep3east ⬇️⬇️⬇️⬇️⬇️...</td>\n",
       "      <td>17</td>\n",
       "      <td>27</td>\n",
       "      <td>2016-12-03 16:05:44</td>\n",
       "      <td>44</td>\n",
       "      <td>False</td>\n",
       "    </tr>\n",
       "  </tbody>\n",
       "</table>\n",
       "</div>"
      ],
      "text/plain": [
       "                      id           user  \\\n",
       "1079  805077588922273793       noigroup   \n",
       "709   805150956585385986       noigroup   \n",
       "1078  805077711387553797  karenlitzyNYC   \n",
       "697   805154419021115393       noigroup   \n",
       "1043  805080588654936064  karenlitzyNYC   \n",
       "\n",
       "                                                   text  retweet_count  \\\n",
       "1079  We DO NOT fix our patients. Our work is to cre...             63   \n",
       "709   \"nociception is neither sufficient nor necessa...             32   \n",
       "1078  As the clinician we have to stop taking respon...             23   \n",
       "697   Moseley when the system is upregulated- \"you a...             24   \n",
       "1043  This a million times over! #ep3east ⬇️⬇️⬇️⬇️⬇️...             17   \n",
       "\n",
       "      favorite_count          created_at  important_tweets retweeted  \n",
       "1079              63 2016-12-03 15:53:49               126     False  \n",
       "709               41 2016-12-03 20:45:21                73     False  \n",
       "1078              42 2016-12-03 15:54:18                65     False  \n",
       "697               25 2016-12-03 20:59:07                49     False  \n",
       "1043              27 2016-12-03 16:05:44                44     False  "
      ]
     },
     "execution_count": 29,
     "metadata": {},
     "output_type": "execute_result"
    }
   ],
   "source": [
    "east2sorted_df = east2.sort_values(['important_tweets'], ascending = False)\n",
    "east2sorted_df.head(5)"
   ]
  },
  {
   "cell_type": "markdown",
   "metadata": {},
   "source": [
    "Day 3"
   ]
  },
  {
   "cell_type": "code",
   "execution_count": 30,
   "metadata": {
    "collapsed": false
   },
   "outputs": [
    {
     "name": "stdout",
     "output_type": "stream",
     "text": [
      "483\n",
      "758\n"
     ]
    }
   ],
   "source": [
    "east3_retweets = east3['retweet_count'].sum()\n",
    "print east3_retweets\n",
    "east3_favorites = east3['favorite_count'].sum()\n",
    "print east3_favorites"
   ]
  },
  {
   "cell_type": "code",
   "execution_count": 31,
   "metadata": {
    "collapsed": false
   },
   "outputs": [
    {
     "data": {
      "text/html": [
       "<div>\n",
       "<table border=\"1\" class=\"dataframe\">\n",
       "  <thead>\n",
       "    <tr style=\"text-align: right;\">\n",
       "      <th></th>\n",
       "      <th>id</th>\n",
       "      <th>user</th>\n",
       "      <th>text</th>\n",
       "      <th>retweet_count</th>\n",
       "      <th>favorite_count</th>\n",
       "      <th>created_at</th>\n",
       "      <th>important_tweets</th>\n",
       "      <th>retweeted</th>\n",
       "    </tr>\n",
       "  </thead>\n",
       "  <tbody>\n",
       "    <tr>\n",
       "      <th>344</th>\n",
       "      <td>805430418166124544</td>\n",
       "      <td>traceyvincel</td>\n",
       "      <td>\"It's by bioplasticity that got you into pain ...</td>\n",
       "      <td>53</td>\n",
       "      <td>72</td>\n",
       "      <td>2016-12-04 15:15:50</td>\n",
       "      <td>125</td>\n",
       "      <td>False</td>\n",
       "    </tr>\n",
       "    <tr>\n",
       "      <th>115</th>\n",
       "      <td>805511401120919557</td>\n",
       "      <td>noigroup</td>\n",
       "      <td>A nugget for patients: the nerve only takes up...</td>\n",
       "      <td>15</td>\n",
       "      <td>36</td>\n",
       "      <td>2016-12-04 20:37:38</td>\n",
       "      <td>51</td>\n",
       "      <td>False</td>\n",
       "    </tr>\n",
       "    <tr>\n",
       "      <th>349</th>\n",
       "      <td>805429605175795712</td>\n",
       "      <td>traceyvincel</td>\n",
       "      <td>Don't get hijacked by chronic pain \"We grow ne...</td>\n",
       "      <td>18</td>\n",
       "      <td>29</td>\n",
       "      <td>2016-12-04 15:12:36</td>\n",
       "      <td>47</td>\n",
       "      <td>False</td>\n",
       "    </tr>\n",
       "    <tr>\n",
       "      <th>577</th>\n",
       "      <td>805265625555664896</td>\n",
       "      <td>traceyvincel</td>\n",
       "      <td>\"Pain exist when credible evidence of danger i...</td>\n",
       "      <td>17</td>\n",
       "      <td>29</td>\n",
       "      <td>2016-12-04 04:21:00</td>\n",
       "      <td>46</td>\n",
       "      <td>False</td>\n",
       "    </tr>\n",
       "    <tr>\n",
       "      <th>162</th>\n",
       "      <td>805485905662377984</td>\n",
       "      <td>EricaMeloe</td>\n",
       "      <td>\"Change the language from pain is enemy to pai...</td>\n",
       "      <td>13</td>\n",
       "      <td>20</td>\n",
       "      <td>2016-12-04 18:56:19</td>\n",
       "      <td>33</td>\n",
       "      <td>False</td>\n",
       "    </tr>\n",
       "  </tbody>\n",
       "</table>\n",
       "</div>"
      ],
      "text/plain": [
       "                     id          user  \\\n",
       "344  805430418166124544  traceyvincel   \n",
       "115  805511401120919557      noigroup   \n",
       "349  805429605175795712  traceyvincel   \n",
       "577  805265625555664896  traceyvincel   \n",
       "162  805485905662377984    EricaMeloe   \n",
       "\n",
       "                                                  text  retweet_count  \\\n",
       "344  \"It's by bioplasticity that got you into pain ...             53   \n",
       "115  A nugget for patients: the nerve only takes up...             15   \n",
       "349  Don't get hijacked by chronic pain \"We grow ne...             18   \n",
       "577  \"Pain exist when credible evidence of danger i...             17   \n",
       "162  \"Change the language from pain is enemy to pai...             13   \n",
       "\n",
       "     favorite_count          created_at  important_tweets retweeted  \n",
       "344              72 2016-12-04 15:15:50               125     False  \n",
       "115              36 2016-12-04 20:37:38                51     False  \n",
       "349              29 2016-12-04 15:12:36                47     False  \n",
       "577              29 2016-12-04 04:21:00                46     False  \n",
       "162              20 2016-12-04 18:56:19                33     False  "
      ]
     },
     "execution_count": 31,
     "metadata": {},
     "output_type": "execute_result"
    }
   ],
   "source": [
    "east3sorted_df = east3.sort_values(['important_tweets'], ascending = False)\n",
    "east3sorted_df.head(5)"
   ]
  },
  {
   "cell_type": "markdown",
   "metadata": {},
   "source": [
    "All that looks good. Now let's do the same for the ep3west conference.  \n",
    "Like before I'll grab the data from my database and put it into a dataframe.  \n",
    "Next I'll change the format of the 'created_at column' then add the retweets+favorites column, then take out the retweets.  \n",
    "On origional step that I will have to do is get rid of duplicates. I believe that I doubled up on collecting day 1 of the conference, so we'll have to make sure that we aren't counting duplicates. "
   ]
  },
  {
   "cell_type": "code",
   "execution_count": 32,
   "metadata": {
    "collapsed": true
   },
   "outputs": [],
   "source": [
    "dataset_west = local_db['ep3west']"
   ]
  },
  {
   "cell_type": "code",
   "execution_count": 33,
   "metadata": {
    "collapsed": false
   },
   "outputs": [
    {
     "data": {
      "text/plain": [
       "3824"
      ]
     },
     "execution_count": 33,
     "metadata": {},
     "output_type": "execute_result"
    }
   ],
   "source": [
    "dataset_west.count()"
   ]
  },
  {
   "cell_type": "code",
   "execution_count": 34,
   "metadata": {
    "collapsed": true
   },
   "outputs": [],
   "source": [
    "tweets_west = list(dataset_west.find())"
   ]
  },
  {
   "cell_type": "code",
   "execution_count": 35,
   "metadata": {
    "collapsed": true
   },
   "outputs": [],
   "source": [
    "df_west = process_results(tweets_west)"
   ]
  },
  {
   "cell_type": "code",
   "execution_count": 36,
   "metadata": {
    "collapsed": false
   },
   "outputs": [
    {
     "data": {
      "text/plain": [
       "3824"
      ]
     },
     "execution_count": 36,
     "metadata": {},
     "output_type": "execute_result"
    }
   ],
   "source": [
    "len(df_west)"
   ]
  },
  {
   "cell_type": "code",
   "execution_count": 37,
   "metadata": {
    "collapsed": false
   },
   "outputs": [],
   "source": [
    "df_west = df_west.drop_duplicates()"
   ]
  },
  {
   "cell_type": "code",
   "execution_count": 38,
   "metadata": {
    "collapsed": false
   },
   "outputs": [
    {
     "data": {
      "text/plain": [
       "2384"
      ]
     },
     "execution_count": 38,
     "metadata": {},
     "output_type": "execute_result"
    }
   ],
   "source": [
    "len(df_west)"
   ]
  },
  {
   "cell_type": "code",
   "execution_count": 39,
   "metadata": {
    "collapsed": true
   },
   "outputs": [],
   "source": [
    "df_west['created_at'] = pd.to_datetime(df_west['created_at'])"
   ]
  },
  {
   "cell_type": "code",
   "execution_count": 40,
   "metadata": {
    "collapsed": true
   },
   "outputs": [],
   "source": [
    "df_west['important_tweets'] = df_west['retweet_count'] + df_west['favorite_count']"
   ]
  },
  {
   "cell_type": "code",
   "execution_count": 41,
   "metadata": {
    "collapsed": true
   },
   "outputs": [],
   "source": [
    "df_west['retweeted'] = df_west['text'].str.startswith('RT')"
   ]
  },
  {
   "cell_type": "code",
   "execution_count": 42,
   "metadata": {
    "collapsed": false
   },
   "outputs": [
    {
     "data": {
      "text/plain": [
       "646"
      ]
     },
     "execution_count": 42,
     "metadata": {},
     "output_type": "execute_result"
    }
   ],
   "source": [
    "df_west = df_west[df_west['retweeted'] == False]\n",
    "len(df_west)"
   ]
  },
  {
   "cell_type": "markdown",
   "metadata": {},
   "source": [
    "Wow, Very nearly the same number of origional tweets for EP3 East and EP3 West!  \n",
    "Let's take a look at the top and bottom of the dataframe"
   ]
  },
  {
   "cell_type": "code",
   "execution_count": 43,
   "metadata": {
    "collapsed": false
   },
   "outputs": [
    {
     "data": {
      "text/html": [
       "<div>\n",
       "<table border=\"1\" class=\"dataframe\">\n",
       "  <thead>\n",
       "    <tr style=\"text-align: right;\">\n",
       "      <th></th>\n",
       "      <th>id</th>\n",
       "      <th>user</th>\n",
       "      <th>text</th>\n",
       "      <th>retweet_count</th>\n",
       "      <th>favorite_count</th>\n",
       "      <th>created_at</th>\n",
       "      <th>important_tweets</th>\n",
       "      <th>retweeted</th>\n",
       "    </tr>\n",
       "  </thead>\n",
       "  <tbody>\n",
       "    <tr>\n",
       "      <th>6</th>\n",
       "      <td>807411766342729728</td>\n",
       "      <td>IofManualNeuroS</td>\n",
       "      <td>First day was great, can't wait for tomorrow. ...</td>\n",
       "      <td>0</td>\n",
       "      <td>0</td>\n",
       "      <td>2016-12-10 02:29:00</td>\n",
       "      <td>0</td>\n",
       "      <td>False</td>\n",
       "    </tr>\n",
       "    <tr>\n",
       "      <th>9</th>\n",
       "      <td>807392998048731136</td>\n",
       "      <td>PhysioKI</td>\n",
       "      <td>The shift in thinking #ep3west https://t.co/H3...</td>\n",
       "      <td>0</td>\n",
       "      <td>0</td>\n",
       "      <td>2016-12-10 01:14:26</td>\n",
       "      <td>0</td>\n",
       "      <td>False</td>\n",
       "    </tr>\n",
       "    <tr>\n",
       "      <th>24</th>\n",
       "      <td>807384664973283328</td>\n",
       "      <td>NOIgroupUSA</td>\n",
       "      <td>And that's a wrap for #ep3west day 1. Meet us ...</td>\n",
       "      <td>1</td>\n",
       "      <td>2</td>\n",
       "      <td>2016-12-10 00:41:19</td>\n",
       "      <td>3</td>\n",
       "      <td>False</td>\n",
       "    </tr>\n",
       "    <tr>\n",
       "      <th>30</th>\n",
       "      <td>807378646738419712</td>\n",
       "      <td>elliesomers_dpt</td>\n",
       "      <td>Getting @efeldmansurf nice and relaxed to incr...</td>\n",
       "      <td>1</td>\n",
       "      <td>1</td>\n",
       "      <td>2016-12-10 00:17:24</td>\n",
       "      <td>2</td>\n",
       "      <td>False</td>\n",
       "    </tr>\n",
       "    <tr>\n",
       "      <th>45</th>\n",
       "      <td>807374506368974848</td>\n",
       "      <td>SandyHiltonPT</td>\n",
       "      <td>\"The future that we imagine is the future that...</td>\n",
       "      <td>4</td>\n",
       "      <td>4</td>\n",
       "      <td>2016-12-10 00:00:57</td>\n",
       "      <td>8</td>\n",
       "      <td>False</td>\n",
       "    </tr>\n",
       "  </tbody>\n",
       "</table>\n",
       "</div>"
      ],
      "text/plain": [
       "                    id             user  \\\n",
       "6   807411766342729728  IofManualNeuroS   \n",
       "9   807392998048731136         PhysioKI   \n",
       "24  807384664973283328      NOIgroupUSA   \n",
       "30  807378646738419712  elliesomers_dpt   \n",
       "45  807374506368974848    SandyHiltonPT   \n",
       "\n",
       "                                                 text  retweet_count  \\\n",
       "6   First day was great, can't wait for tomorrow. ...              0   \n",
       "9   The shift in thinking #ep3west https://t.co/H3...              0   \n",
       "24  And that's a wrap for #ep3west day 1. Meet us ...              1   \n",
       "30  Getting @efeldmansurf nice and relaxed to incr...              1   \n",
       "45  \"The future that we imagine is the future that...              4   \n",
       "\n",
       "    favorite_count          created_at  important_tweets retweeted  \n",
       "6                0 2016-12-10 02:29:00                 0     False  \n",
       "9                0 2016-12-10 01:14:26                 0     False  \n",
       "24               2 2016-12-10 00:41:19                 3     False  \n",
       "30               1 2016-12-10 00:17:24                 2     False  \n",
       "45               4 2016-12-10 00:00:57                 8     False  "
      ]
     },
     "execution_count": 43,
     "metadata": {},
     "output_type": "execute_result"
    }
   ],
   "source": [
    "df_west.head()"
   ]
  },
  {
   "cell_type": "code",
   "execution_count": 44,
   "metadata": {
    "collapsed": false
   },
   "outputs": [
    {
     "data": {
      "text/html": [
       "<div>\n",
       "<table border=\"1\" class=\"dataframe\">\n",
       "  <thead>\n",
       "    <tr style=\"text-align: right;\">\n",
       "      <th></th>\n",
       "      <th>id</th>\n",
       "      <th>user</th>\n",
       "      <th>text</th>\n",
       "      <th>retweet_count</th>\n",
       "      <th>favorite_count</th>\n",
       "      <th>created_at</th>\n",
       "      <th>important_tweets</th>\n",
       "      <th>retweeted</th>\n",
       "    </tr>\n",
       "  </thead>\n",
       "  <tbody>\n",
       "    <tr>\n",
       "      <th>3609</th>\n",
       "      <td>807278813100982272</td>\n",
       "      <td>SarahHaagPT</td>\n",
       "      <td>If it's not biologically plausible, then you n...</td>\n",
       "      <td>8</td>\n",
       "      <td>7</td>\n",
       "      <td>2016-12-09 17:40:42</td>\n",
       "      <td>15</td>\n",
       "      <td>False</td>\n",
       "    </tr>\n",
       "    <tr>\n",
       "      <th>3688</th>\n",
       "      <td>807270749425651716</td>\n",
       "      <td>SanDiegoSummit</td>\n",
       "      <td>Follow NOI group on Twitter at #ep3West over t...</td>\n",
       "      <td>3</td>\n",
       "      <td>4</td>\n",
       "      <td>2016-12-09 17:08:39</td>\n",
       "      <td>7</td>\n",
       "      <td>False</td>\n",
       "    </tr>\n",
       "    <tr>\n",
       "      <th>3694</th>\n",
       "      <td>807270498228838400</td>\n",
       "      <td>noigroup</td>\n",
       "      <td>#EP3west theories like farts... they tend to d...</td>\n",
       "      <td>9</td>\n",
       "      <td>4</td>\n",
       "      <td>2016-12-09 17:07:39</td>\n",
       "      <td>13</td>\n",
       "      <td>False</td>\n",
       "    </tr>\n",
       "    <tr>\n",
       "      <th>3702</th>\n",
       "      <td>807270082392956929</td>\n",
       "      <td>SarahHaagPT</td>\n",
       "      <td>Our first group project.... #ep3west https://t...</td>\n",
       "      <td>4</td>\n",
       "      <td>5</td>\n",
       "      <td>2016-12-09 17:06:00</td>\n",
       "      <td>9</td>\n",
       "      <td>False</td>\n",
       "    </tr>\n",
       "    <tr>\n",
       "      <th>3814</th>\n",
       "      <td>807253591853387776</td>\n",
       "      <td>PainSciPod</td>\n",
       "      <td>Getting ready for #ep3west Look @scotmorrsn we...</td>\n",
       "      <td>6</td>\n",
       "      <td>15</td>\n",
       "      <td>2016-12-09 16:00:29</td>\n",
       "      <td>21</td>\n",
       "      <td>False</td>\n",
       "    </tr>\n",
       "  </tbody>\n",
       "</table>\n",
       "</div>"
      ],
      "text/plain": [
       "                      id            user  \\\n",
       "3609  807278813100982272     SarahHaagPT   \n",
       "3688  807270749425651716  SanDiegoSummit   \n",
       "3694  807270498228838400        noigroup   \n",
       "3702  807270082392956929     SarahHaagPT   \n",
       "3814  807253591853387776      PainSciPod   \n",
       "\n",
       "                                                   text  retweet_count  \\\n",
       "3609  If it's not biologically plausible, then you n...              8   \n",
       "3688  Follow NOI group on Twitter at #ep3West over t...              3   \n",
       "3694  #EP3west theories like farts... they tend to d...              9   \n",
       "3702  Our first group project.... #ep3west https://t...              4   \n",
       "3814  Getting ready for #ep3west Look @scotmorrsn we...              6   \n",
       "\n",
       "      favorite_count          created_at  important_tweets retweeted  \n",
       "3609               7 2016-12-09 17:40:42                15     False  \n",
       "3688               4 2016-12-09 17:08:39                 7     False  \n",
       "3694               4 2016-12-09 17:07:39                13     False  \n",
       "3702               5 2016-12-09 17:06:00                 9     False  \n",
       "3814              15 2016-12-09 16:00:29                21     False  "
      ]
     },
     "execution_count": 44,
     "metadata": {},
     "output_type": "execute_result"
    }
   ],
   "source": [
    "df_west.tail()"
   ]
  },
  {
   "cell_type": "markdown",
   "metadata": {},
   "source": [
    "It all looks good. Now let's make the data set for the 3 days of the West conference"
   ]
  },
  {
   "cell_type": "markdown",
   "metadata": {},
   "source": [
    "Day 1- 12/9/16"
   ]
  },
  {
   "cell_type": "code",
   "execution_count": 45,
   "metadata": {
    "collapsed": false
   },
   "outputs": [
    {
     "data": {
      "text/plain": [
       "290"
      ]
     },
     "execution_count": 45,
     "metadata": {},
     "output_type": "execute_result"
    }
   ],
   "source": [
    "west1 = df_west[df_west['created_at'] < '2016-12-10']\n",
    "len(west1)"
   ]
  },
  {
   "cell_type": "markdown",
   "metadata": {},
   "source": [
    "Day 2- 12/10/16"
   ]
  },
  {
   "cell_type": "code",
   "execution_count": 46,
   "metadata": {
    "collapsed": false
   },
   "outputs": [
    {
     "data": {
      "text/plain": [
       "233"
      ]
     },
     "execution_count": 46,
     "metadata": {},
     "output_type": "execute_result"
    }
   ],
   "source": [
    "west_df1 = df_west[df_west['created_at'] > '2016-12-10']\n",
    "west2 = west_df1[west_df1['created_at'] < '2016-12-11']\n",
    "len(west2)"
   ]
  },
  {
   "cell_type": "markdown",
   "metadata": {},
   "source": [
    "Day 3- 12/11/16"
   ]
  },
  {
   "cell_type": "code",
   "execution_count": 47,
   "metadata": {
    "collapsed": false
   },
   "outputs": [
    {
     "data": {
      "text/plain": [
       "123"
      ]
     },
     "execution_count": 47,
     "metadata": {},
     "output_type": "execute_result"
    }
   ],
   "source": [
    "west3 = df_west[df_west['created_at'] > '2016-12-11']\n",
    "len(west3)"
   ]
  },
  {
   "cell_type": "markdown",
   "metadata": {},
   "source": [
    "Now that we have our data sets for all of our dats, let's calculate the total number of retweets, the total number of favorites and the most important tweets. \n",
    "We'll start with the full conference data. "
   ]
  },
  {
   "cell_type": "markdown",
   "metadata": {},
   "source": [
    "Full EP3 West Conference"
   ]
  },
  {
   "cell_type": "code",
   "execution_count": 48,
   "metadata": {
    "collapsed": false
   },
   "outputs": [
    {
     "name": "stdout",
     "output_type": "stream",
     "text": [
      "2703\n",
      "2917\n"
     ]
    }
   ],
   "source": [
    "west_retweets = df_west['retweet_count'].sum()\n",
    "print west_retweets\n",
    "west_favorites = df_west['favorite_count'].sum()\n",
    "print west_favorites"
   ]
  },
  {
   "cell_type": "markdown",
   "metadata": {},
   "source": [
    "Full Conference top 10 tweets"
   ]
  },
  {
   "cell_type": "code",
   "execution_count": 49,
   "metadata": {
    "collapsed": false
   },
   "outputs": [
    {
     "data": {
      "text/html": [
       "<div>\n",
       "<table border=\"1\" class=\"dataframe\">\n",
       "  <thead>\n",
       "    <tr style=\"text-align: right;\">\n",
       "      <th></th>\n",
       "      <th>id</th>\n",
       "      <th>user</th>\n",
       "      <th>text</th>\n",
       "      <th>retweet_count</th>\n",
       "      <th>favorite_count</th>\n",
       "      <th>created_at</th>\n",
       "      <th>important_tweets</th>\n",
       "      <th>retweeted</th>\n",
       "    </tr>\n",
       "  </thead>\n",
       "  <tbody>\n",
       "    <tr>\n",
       "      <th>3254</th>\n",
       "      <td>807341467718909952</td>\n",
       "      <td>SarahHaagPT</td>\n",
       "      <td>Get people moving... motor output is anti-noci...</td>\n",
       "      <td>39</td>\n",
       "      <td>48</td>\n",
       "      <td>2016-12-09 21:49:40</td>\n",
       "      <td>87</td>\n",
       "      <td>False</td>\n",
       "    </tr>\n",
       "    <tr>\n",
       "      <th>1509</th>\n",
       "      <td>807341467718909952</td>\n",
       "      <td>SarahHaagPT</td>\n",
       "      <td>Get people moving... motor output is anti-noci...</td>\n",
       "      <td>37</td>\n",
       "      <td>46</td>\n",
       "      <td>2016-12-09 21:49:40</td>\n",
       "      <td>83</td>\n",
       "      <td>False</td>\n",
       "    </tr>\n",
       "    <tr>\n",
       "      <th>3505</th>\n",
       "      <td>807290129177972736</td>\n",
       "      <td>SandyHiltonPT</td>\n",
       "      <td>Lorimer: asking for adoption of this slide for...</td>\n",
       "      <td>22</td>\n",
       "      <td>28</td>\n",
       "      <td>2016-12-09 18:25:40</td>\n",
       "      <td>50</td>\n",
       "      <td>False</td>\n",
       "    </tr>\n",
       "    <tr>\n",
       "      <th>3554</th>\n",
       "      <td>807284647734308864</td>\n",
       "      <td>noigroup</td>\n",
       "      <td>Pain tolerance is different to pain threshold ...</td>\n",
       "      <td>22</td>\n",
       "      <td>26</td>\n",
       "      <td>2016-12-09 18:03:53</td>\n",
       "      <td>48</td>\n",
       "      <td>False</td>\n",
       "    </tr>\n",
       "    <tr>\n",
       "      <th>1809</th>\n",
       "      <td>807284647734308864</td>\n",
       "      <td>noigroup</td>\n",
       "      <td>Pain tolerance is different to pain threshold ...</td>\n",
       "      <td>22</td>\n",
       "      <td>25</td>\n",
       "      <td>2016-12-09 18:03:53</td>\n",
       "      <td>47</td>\n",
       "      <td>False</td>\n",
       "    </tr>\n",
       "    <tr>\n",
       "      <th>1760</th>\n",
       "      <td>807290129177972736</td>\n",
       "      <td>SandyHiltonPT</td>\n",
       "      <td>Lorimer: asking for adoption of this slide for...</td>\n",
       "      <td>20</td>\n",
       "      <td>27</td>\n",
       "      <td>2016-12-09 18:25:40</td>\n",
       "      <td>47</td>\n",
       "      <td>False</td>\n",
       "    </tr>\n",
       "    <tr>\n",
       "      <th>2903</th>\n",
       "      <td>807646148047450112</td>\n",
       "      <td>brettneilsondpt</td>\n",
       "      <td>#ep3west @noigroup Great message for the root ...</td>\n",
       "      <td>19</td>\n",
       "      <td>27</td>\n",
       "      <td>2016-12-10 18:00:21</td>\n",
       "      <td>46</td>\n",
       "      <td>False</td>\n",
       "    </tr>\n",
       "    <tr>\n",
       "      <th>1821</th>\n",
       "      <td>807283192231170052</td>\n",
       "      <td>SandyHiltonPT</td>\n",
       "      <td>Clinicians need to dig down through the layers...</td>\n",
       "      <td>17</td>\n",
       "      <td>24</td>\n",
       "      <td>2016-12-09 17:58:06</td>\n",
       "      <td>41</td>\n",
       "      <td>False</td>\n",
       "    </tr>\n",
       "    <tr>\n",
       "      <th>3543</th>\n",
       "      <td>807285478906949632</td>\n",
       "      <td>noigroup</td>\n",
       "      <td>Pain occurs when credible evidence of danger i...</td>\n",
       "      <td>23</td>\n",
       "      <td>18</td>\n",
       "      <td>2016-12-09 18:07:11</td>\n",
       "      <td>41</td>\n",
       "      <td>False</td>\n",
       "    </tr>\n",
       "    <tr>\n",
       "      <th>1798</th>\n",
       "      <td>807285478906949632</td>\n",
       "      <td>noigroup</td>\n",
       "      <td>Pain occurs when credible evidence of danger i...</td>\n",
       "      <td>23</td>\n",
       "      <td>17</td>\n",
       "      <td>2016-12-09 18:07:11</td>\n",
       "      <td>40</td>\n",
       "      <td>False</td>\n",
       "    </tr>\n",
       "  </tbody>\n",
       "</table>\n",
       "</div>"
      ],
      "text/plain": [
       "                      id             user  \\\n",
       "3254  807341467718909952      SarahHaagPT   \n",
       "1509  807341467718909952      SarahHaagPT   \n",
       "3505  807290129177972736    SandyHiltonPT   \n",
       "3554  807284647734308864         noigroup   \n",
       "1809  807284647734308864         noigroup   \n",
       "1760  807290129177972736    SandyHiltonPT   \n",
       "2903  807646148047450112  brettneilsondpt   \n",
       "1821  807283192231170052    SandyHiltonPT   \n",
       "3543  807285478906949632         noigroup   \n",
       "1798  807285478906949632         noigroup   \n",
       "\n",
       "                                                   text  retweet_count  \\\n",
       "3254  Get people moving... motor output is anti-noci...             39   \n",
       "1509  Get people moving... motor output is anti-noci...             37   \n",
       "3505  Lorimer: asking for adoption of this slide for...             22   \n",
       "3554  Pain tolerance is different to pain threshold ...             22   \n",
       "1809  Pain tolerance is different to pain threshold ...             22   \n",
       "1760  Lorimer: asking for adoption of this slide for...             20   \n",
       "2903  #ep3west @noigroup Great message for the root ...             19   \n",
       "1821  Clinicians need to dig down through the layers...             17   \n",
       "3543  Pain occurs when credible evidence of danger i...             23   \n",
       "1798  Pain occurs when credible evidence of danger i...             23   \n",
       "\n",
       "      favorite_count          created_at  important_tweets retweeted  \n",
       "3254              48 2016-12-09 21:49:40                87     False  \n",
       "1509              46 2016-12-09 21:49:40                83     False  \n",
       "3505              28 2016-12-09 18:25:40                50     False  \n",
       "3554              26 2016-12-09 18:03:53                48     False  \n",
       "1809              25 2016-12-09 18:03:53                47     False  \n",
       "1760              27 2016-12-09 18:25:40                47     False  \n",
       "2903              27 2016-12-10 18:00:21                46     False  \n",
       "1821              24 2016-12-09 17:58:06                41     False  \n",
       "3543              18 2016-12-09 18:07:11                41     False  \n",
       "1798              17 2016-12-09 18:07:11                40     False  "
      ]
     },
     "execution_count": 49,
     "metadata": {},
     "output_type": "execute_result"
    }
   ],
   "source": [
    "sorted_west = df_west.sort_values(['important_tweets'], ascending = False)\n",
    "sorted_west.head(10)"
   ]
  },
  {
   "cell_type": "markdown",
   "metadata": {},
   "source": [
    "On to the analysis by day for the West.  \n",
    "Again we'll start with total retweets and favorites, then do the top 5 tweets and look at those for each day."
   ]
  },
  {
   "cell_type": "markdown",
   "metadata": {},
   "source": [
    "Day 1- 12/9/16"
   ]
  },
  {
   "cell_type": "code",
   "execution_count": 50,
   "metadata": {
    "collapsed": false
   },
   "outputs": [
    {
     "name": "stdout",
     "output_type": "stream",
     "text": [
      "1496\n",
      "1602\n"
     ]
    }
   ],
   "source": [
    "west1_retweets = west1['retweet_count'].sum()\n",
    "print west1_retweets\n",
    "west1_favorites = west1['favorite_count'].sum()\n",
    "print west1_favorites"
   ]
  },
  {
   "cell_type": "code",
   "execution_count": 51,
   "metadata": {
    "collapsed": false
   },
   "outputs": [
    {
     "data": {
      "text/html": [
       "<div>\n",
       "<table border=\"1\" class=\"dataframe\">\n",
       "  <thead>\n",
       "    <tr style=\"text-align: right;\">\n",
       "      <th></th>\n",
       "      <th>id</th>\n",
       "      <th>user</th>\n",
       "      <th>text</th>\n",
       "      <th>retweet_count</th>\n",
       "      <th>favorite_count</th>\n",
       "      <th>created_at</th>\n",
       "      <th>important_tweets</th>\n",
       "      <th>retweeted</th>\n",
       "    </tr>\n",
       "  </thead>\n",
       "  <tbody>\n",
       "    <tr>\n",
       "      <th>3254</th>\n",
       "      <td>807341467718909952</td>\n",
       "      <td>SarahHaagPT</td>\n",
       "      <td>Get people moving... motor output is anti-noci...</td>\n",
       "      <td>39</td>\n",
       "      <td>48</td>\n",
       "      <td>2016-12-09 21:49:40</td>\n",
       "      <td>87</td>\n",
       "      <td>False</td>\n",
       "    </tr>\n",
       "    <tr>\n",
       "      <th>1509</th>\n",
       "      <td>807341467718909952</td>\n",
       "      <td>SarahHaagPT</td>\n",
       "      <td>Get people moving... motor output is anti-noci...</td>\n",
       "      <td>37</td>\n",
       "      <td>46</td>\n",
       "      <td>2016-12-09 21:49:40</td>\n",
       "      <td>83</td>\n",
       "      <td>False</td>\n",
       "    </tr>\n",
       "    <tr>\n",
       "      <th>3505</th>\n",
       "      <td>807290129177972736</td>\n",
       "      <td>SandyHiltonPT</td>\n",
       "      <td>Lorimer: asking for adoption of this slide for...</td>\n",
       "      <td>22</td>\n",
       "      <td>28</td>\n",
       "      <td>2016-12-09 18:25:40</td>\n",
       "      <td>50</td>\n",
       "      <td>False</td>\n",
       "    </tr>\n",
       "    <tr>\n",
       "      <th>3554</th>\n",
       "      <td>807284647734308864</td>\n",
       "      <td>noigroup</td>\n",
       "      <td>Pain tolerance is different to pain threshold ...</td>\n",
       "      <td>22</td>\n",
       "      <td>26</td>\n",
       "      <td>2016-12-09 18:03:53</td>\n",
       "      <td>48</td>\n",
       "      <td>False</td>\n",
       "    </tr>\n",
       "    <tr>\n",
       "      <th>1809</th>\n",
       "      <td>807284647734308864</td>\n",
       "      <td>noigroup</td>\n",
       "      <td>Pain tolerance is different to pain threshold ...</td>\n",
       "      <td>22</td>\n",
       "      <td>25</td>\n",
       "      <td>2016-12-09 18:03:53</td>\n",
       "      <td>47</td>\n",
       "      <td>False</td>\n",
       "    </tr>\n",
       "  </tbody>\n",
       "</table>\n",
       "</div>"
      ],
      "text/plain": [
       "                      id           user  \\\n",
       "3254  807341467718909952    SarahHaagPT   \n",
       "1509  807341467718909952    SarahHaagPT   \n",
       "3505  807290129177972736  SandyHiltonPT   \n",
       "3554  807284647734308864       noigroup   \n",
       "1809  807284647734308864       noigroup   \n",
       "\n",
       "                                                   text  retweet_count  \\\n",
       "3254  Get people moving... motor output is anti-noci...             39   \n",
       "1509  Get people moving... motor output is anti-noci...             37   \n",
       "3505  Lorimer: asking for adoption of this slide for...             22   \n",
       "3554  Pain tolerance is different to pain threshold ...             22   \n",
       "1809  Pain tolerance is different to pain threshold ...             22   \n",
       "\n",
       "      favorite_count          created_at  important_tweets retweeted  \n",
       "3254              48 2016-12-09 21:49:40                87     False  \n",
       "1509              46 2016-12-09 21:49:40                83     False  \n",
       "3505              28 2016-12-09 18:25:40                50     False  \n",
       "3554              26 2016-12-09 18:03:53                48     False  \n",
       "1809              25 2016-12-09 18:03:53                47     False  "
      ]
     },
     "execution_count": 51,
     "metadata": {},
     "output_type": "execute_result"
    }
   ],
   "source": [
    "sorted_west1 = west1.sort_values(['important_tweets'], ascending = False)\n",
    "sorted_west1.head(5)"
   ]
  },
  {
   "cell_type": "markdown",
   "metadata": {},
   "source": [
    "Day 2- 12/10/16"
   ]
  },
  {
   "cell_type": "code",
   "execution_count": 52,
   "metadata": {
    "collapsed": false
   },
   "outputs": [
    {
     "name": "stdout",
     "output_type": "stream",
     "text": [
      "760\n",
      "849\n"
     ]
    }
   ],
   "source": [
    "west2_retweets = west2['retweet_count'].sum()\n",
    "print west2_retweets\n",
    "west2_favorites = west2['favorite_count'].sum()\n",
    "print west2_favorites"
   ]
  },
  {
   "cell_type": "code",
   "execution_count": 53,
   "metadata": {
    "collapsed": false
   },
   "outputs": [
    {
     "data": {
      "text/html": [
       "<div>\n",
       "<table border=\"1\" class=\"dataframe\">\n",
       "  <thead>\n",
       "    <tr style=\"text-align: right;\">\n",
       "      <th></th>\n",
       "      <th>id</th>\n",
       "      <th>user</th>\n",
       "      <th>text</th>\n",
       "      <th>retweet_count</th>\n",
       "      <th>favorite_count</th>\n",
       "      <th>created_at</th>\n",
       "      <th>important_tweets</th>\n",
       "      <th>retweeted</th>\n",
       "    </tr>\n",
       "  </thead>\n",
       "  <tbody>\n",
       "    <tr>\n",
       "      <th>2903</th>\n",
       "      <td>807646148047450112</td>\n",
       "      <td>brettneilsondpt</td>\n",
       "      <td>#ep3west @noigroup Great message for the root ...</td>\n",
       "      <td>19</td>\n",
       "      <td>27</td>\n",
       "      <td>2016-12-10 18:00:21</td>\n",
       "      <td>46</td>\n",
       "      <td>False</td>\n",
       "    </tr>\n",
       "    <tr>\n",
       "      <th>1158</th>\n",
       "      <td>807646148047450112</td>\n",
       "      <td>brettneilsondpt</td>\n",
       "      <td>#ep3west @noigroup Great message for the root ...</td>\n",
       "      <td>16</td>\n",
       "      <td>21</td>\n",
       "      <td>2016-12-10 18:00:21</td>\n",
       "      <td>37</td>\n",
       "      <td>False</td>\n",
       "    </tr>\n",
       "    <tr>\n",
       "      <th>2802</th>\n",
       "      <td>807666724753403905</td>\n",
       "      <td>SandyHiltonPT</td>\n",
       "      <td>\"When people say things themselves, they belie...</td>\n",
       "      <td>14</td>\n",
       "      <td>19</td>\n",
       "      <td>2016-12-10 19:22:07</td>\n",
       "      <td>33</td>\n",
       "      <td>False</td>\n",
       "    </tr>\n",
       "    <tr>\n",
       "      <th>1057</th>\n",
       "      <td>807666724753403905</td>\n",
       "      <td>SandyHiltonPT</td>\n",
       "      <td>\"When people say things themselves, they belie...</td>\n",
       "      <td>12</td>\n",
       "      <td>15</td>\n",
       "      <td>2016-12-10 19:22:07</td>\n",
       "      <td>27</td>\n",
       "      <td>False</td>\n",
       "    </tr>\n",
       "    <tr>\n",
       "      <th>2659</th>\n",
       "      <td>807716513473970176</td>\n",
       "      <td>SandyHiltonPT</td>\n",
       "      <td>We can't erase a neurotage that exists, but we...</td>\n",
       "      <td>7</td>\n",
       "      <td>14</td>\n",
       "      <td>2016-12-10 22:39:58</td>\n",
       "      <td>21</td>\n",
       "      <td>False</td>\n",
       "    </tr>\n",
       "  </tbody>\n",
       "</table>\n",
       "</div>"
      ],
      "text/plain": [
       "                      id             user  \\\n",
       "2903  807646148047450112  brettneilsondpt   \n",
       "1158  807646148047450112  brettneilsondpt   \n",
       "2802  807666724753403905    SandyHiltonPT   \n",
       "1057  807666724753403905    SandyHiltonPT   \n",
       "2659  807716513473970176    SandyHiltonPT   \n",
       "\n",
       "                                                   text  retweet_count  \\\n",
       "2903  #ep3west @noigroup Great message for the root ...             19   \n",
       "1158  #ep3west @noigroup Great message for the root ...             16   \n",
       "2802  \"When people say things themselves, they belie...             14   \n",
       "1057  \"When people say things themselves, they belie...             12   \n",
       "2659  We can't erase a neurotage that exists, but we...              7   \n",
       "\n",
       "      favorite_count          created_at  important_tweets retweeted  \n",
       "2903              27 2016-12-10 18:00:21                46     False  \n",
       "1158              21 2016-12-10 18:00:21                37     False  \n",
       "2802              19 2016-12-10 19:22:07                33     False  \n",
       "1057              15 2016-12-10 19:22:07                27     False  \n",
       "2659              14 2016-12-10 22:39:58                21     False  "
      ]
     },
     "execution_count": 53,
     "metadata": {},
     "output_type": "execute_result"
    }
   ],
   "source": [
    "sorted_west2 = west2.sort_values(['important_tweets'], ascending = False)\n",
    "sorted_west2.head(5)"
   ]
  },
  {
   "cell_type": "markdown",
   "metadata": {},
   "source": [
    "Day 3- 12/11/16"
   ]
  },
  {
   "cell_type": "code",
   "execution_count": 54,
   "metadata": {
    "collapsed": false
   },
   "outputs": [
    {
     "name": "stdout",
     "output_type": "stream",
     "text": [
      "447\n",
      "466\n"
     ]
    }
   ],
   "source": [
    "west3_retweets = west3['retweet_count'].sum()\n",
    "print west3_retweets\n",
    "west3_favorites = west3['favorite_count'].sum()\n",
    "print west3_favorites"
   ]
  },
  {
   "cell_type": "code",
   "execution_count": 55,
   "metadata": {
    "collapsed": false
   },
   "outputs": [
    {
     "data": {
      "text/html": [
       "<div>\n",
       "<table border=\"1\" class=\"dataframe\">\n",
       "  <thead>\n",
       "    <tr style=\"text-align: right;\">\n",
       "      <th></th>\n",
       "      <th>id</th>\n",
       "      <th>user</th>\n",
       "      <th>text</th>\n",
       "      <th>retweet_count</th>\n",
       "      <th>favorite_count</th>\n",
       "      <th>created_at</th>\n",
       "      <th>important_tweets</th>\n",
       "      <th>retweeted</th>\n",
       "    </tr>\n",
       "  </thead>\n",
       "  <tbody>\n",
       "    <tr>\n",
       "      <th>2444</th>\n",
       "      <td>808014677338820608</td>\n",
       "      <td>mattcurrier23</td>\n",
       "      <td>👌🏽 #ep3west https://t.co/Alzo89xrL1</td>\n",
       "      <td>15</td>\n",
       "      <td>15</td>\n",
       "      <td>2016-12-11 18:24:45</td>\n",
       "      <td>30</td>\n",
       "      <td>False</td>\n",
       "    </tr>\n",
       "    <tr>\n",
       "      <th>2240</th>\n",
       "      <td>808084706805694464</td>\n",
       "      <td>SarahHaagPT</td>\n",
       "      <td>'Dethreatening is nothing more than telling th...</td>\n",
       "      <td>12</td>\n",
       "      <td>14</td>\n",
       "      <td>2016-12-11 23:03:02</td>\n",
       "      <td>26</td>\n",
       "      <td>False</td>\n",
       "    </tr>\n",
       "    <tr>\n",
       "      <th>2563</th>\n",
       "      <td>807746845015306240</td>\n",
       "      <td>SandyHiltonPT</td>\n",
       "      <td>\"The immune system, the system that knows who ...</td>\n",
       "      <td>9</td>\n",
       "      <td>12</td>\n",
       "      <td>2016-12-11 00:40:29</td>\n",
       "      <td>21</td>\n",
       "      <td>False</td>\n",
       "    </tr>\n",
       "    <tr>\n",
       "      <th>2450</th>\n",
       "      <td>808005649296551936</td>\n",
       "      <td>SarahHaagPT</td>\n",
       "      <td>Case studies- great to hear what's gone well. ...</td>\n",
       "      <td>6</td>\n",
       "      <td>14</td>\n",
       "      <td>2016-12-11 17:48:53</td>\n",
       "      <td>20</td>\n",
       "      <td>False</td>\n",
       "    </tr>\n",
       "    <tr>\n",
       "      <th>2496</th>\n",
       "      <td>807989177375522816</td>\n",
       "      <td>SandyHiltonPT</td>\n",
       "      <td>Teamwork is needed to help people with pain. R...</td>\n",
       "      <td>10</td>\n",
       "      <td>8</td>\n",
       "      <td>2016-12-11 16:43:26</td>\n",
       "      <td>18</td>\n",
       "      <td>False</td>\n",
       "    </tr>\n",
       "  </tbody>\n",
       "</table>\n",
       "</div>"
      ],
      "text/plain": [
       "                      id           user  \\\n",
       "2444  808014677338820608  mattcurrier23   \n",
       "2240  808084706805694464    SarahHaagPT   \n",
       "2563  807746845015306240  SandyHiltonPT   \n",
       "2450  808005649296551936    SarahHaagPT   \n",
       "2496  807989177375522816  SandyHiltonPT   \n",
       "\n",
       "                                                   text  retweet_count  \\\n",
       "2444              👌🏽 #ep3west https://t.co/Alzo89xrL1             15   \n",
       "2240  'Dethreatening is nothing more than telling th...             12   \n",
       "2563  \"The immune system, the system that knows who ...              9   \n",
       "2450  Case studies- great to hear what's gone well. ...              6   \n",
       "2496  Teamwork is needed to help people with pain. R...             10   \n",
       "\n",
       "      favorite_count          created_at  important_tweets retweeted  \n",
       "2444              15 2016-12-11 18:24:45                30     False  \n",
       "2240              14 2016-12-11 23:03:02                26     False  \n",
       "2563              12 2016-12-11 00:40:29                21     False  \n",
       "2450              14 2016-12-11 17:48:53                20     False  \n",
       "2496               8 2016-12-11 16:43:26                18     False  "
      ]
     },
     "execution_count": 55,
     "metadata": {},
     "output_type": "execute_result"
    }
   ],
   "source": [
    "sorted_west3 = west3.sort_values(['important_tweets'], ascending = False)\n",
    "sorted_west3.head(5)"
   ]
  },
  {
   "cell_type": "markdown",
   "metadata": {},
   "source": [
    "Great, now we've got all of our data, but it's tough to look at. Let's make some bar graphs and compare West to East in each category."
   ]
  },
  {
   "cell_type": "markdown",
   "metadata": {},
   "source": [
    "First let's look at total tweets for each conference"
   ]
  },
  {
   "cell_type": "code",
   "execution_count": 56,
   "metadata": {
    "collapsed": false
   },
   "outputs": [
    {
     "data": {
      "image/png": "[encoded data removed]",
      "text/plain": [
       "<matplotlib.figure.Figure at 0x121407ad0>"
      ]
     },
     "metadata": {},
     "output_type": "display_data"
    }
   ],
   "source": [
    "east = len(df_east)\n",
    "west = len(df_west)\n",
    "labels = [\"East\", \"West\"]\n",
    "data = [east, west]\n",
    "\n",
    "xlocations = np.array(range(len(data)))+0.5\n",
    "width = 0.5\n",
    "plt.bar(xlocations, data, width=width)\n",
    "plt.xticks(xlocations+width/2, labels)\n",
    "plt.xlim(0, xlocations[-1]+width*2)\n",
    "plt.title(\"Total Tweets by Conference\")\n",
    "plt.ylabel(\"Tweets\")\n",
    "plt.savefig(\"total tweets by conference.png\")\n",
    "plt.show()"
   ]
  },
  {
   "cell_type": "markdown",
   "metadata": {
    "collapsed": true
   },
   "source": [
    "Now Let's Look at Retweets by Conference"
   ]
  },
  {
   "cell_type": "code",
   "execution_count": 57,
   "metadata": {
    "collapsed": false
   },
   "outputs": [
    {
     "data": {
      "image/png": "[encoded data removed]",
      "text/plain": [
       "<matplotlib.figure.Figure at 0x121407350>"
      ]
     },
     "metadata": {},
     "output_type": "display_data"
    }
   ],
   "source": [
    "east = east_retweets\n",
    "west = west_retweets\n",
    "labels = [\"East\", \"West\"]\n",
    "data = [east, west]\n",
    "\n",
    "xlocations = np.array(range(len(data)))+0.5\n",
    "width = 0.5\n",
    "plt.bar(xlocations, data, width=width)\n",
    "plt.xticks(xlocations+width/2, labels)\n",
    "plt.xlim(0, xlocations[-1]+width*2)\n",
    "plt.title(\"Total Retweets by Conference\")\n",
    "plt.ylabel(\"Reweets\")\n",
    "plt.savefig(\"Total Retweets by Conference.png\")\n",
    "\n",
    "plt.show()"
   ]
  },
  {
   "cell_type": "markdown",
   "metadata": {},
   "source": [
    "Next we'll look at favorites by conference"
   ]
  },
  {
   "cell_type": "code",
   "execution_count": 58,
   "metadata": {
    "collapsed": false
   },
   "outputs": [
    {
     "data": {
      "image/png": "[encoded data removed]",
      "text/plain": [
       "<matplotlib.figure.Figure at 0x121552ed0>"
      ]
     },
     "metadata": {},
     "output_type": "display_data"
    }
   ],
   "source": [
    "east = east_favorites\n",
    "west = west_favorites\n",
    "labels = [\"East\", \"West\"]\n",
    "data = [east, west]\n",
    "\n",
    "xlocations = np.array(range(len(data)))+0.5\n",
    "width = 0.5\n",
    "plt.bar(xlocations, data, width=width)\n",
    "plt.xticks(xlocations+width/2, labels)\n",
    "plt.xlim(0, xlocations[-1]+width*2)\n",
    "plt.title(\"Total Favorites by Conference\")\n",
    "plt.ylabel(\"Favorites\")\n",
    "plt.savefig(\"Total Favorites by Conference\")\n",
    "\n",
    "plt.show()"
   ]
  },
  {
   "cell_type": "markdown",
   "metadata": {
    "collapsed": true
   },
   "source": [
    "Now Let's look at the total tweets, retweets and favorites for each day within each conference\n",
    "First we'll start with total tweets"
   ]
  },
  {
   "cell_type": "code",
   "execution_count": 59,
   "metadata": {
    "collapsed": false
   },
   "outputs": [
    {
     "data": {
      "image/png": "[encoded data removed]",
      "text/plain": [
       "<matplotlib.figure.Figure at 0x124aabb50>"
      ]
     },
     "metadata": {},
     "output_type": "display_data"
    }
   ],
   "source": [
    "n_groups = 3\n",
    "east_tweets = (len(east1), len(east2), len(east3))\n",
    "west_tweets = (len(west1), len(west2), len(west3))\n",
    "\n",
    "fig, ax = plt.subplots()\n",
    "index = np.arange(n_groups)\n",
    "bar_width = 0.35\n",
    "\n",
    "rects1 = plt.bar(index, east_tweets, bar_width, color='b', label='East')\n",
    "\n",
    "rects2 = plt.bar(index + bar_width, west_tweets, bar_width, color='g', label='West')\n",
    "\n",
    "plt.xlabel('Conference Day')\n",
    "plt.ylabel('Tweets')\n",
    "plt.xticks(index + bar_width, ('Day 1', 'Day 2', 'Day 3'))\n",
    "plt.title(\"Tweets by Day for Each Conference\")\n",
    "plt.legend()\n",
    "plt.savefig('tweets by day.png')\n",
    "plt.show()"
   ]
  },
  {
   "cell_type": "markdown",
   "metadata": {},
   "source": [
    "Next we'll look at retweets by day"
   ]
  },
  {
   "cell_type": "code",
   "execution_count": 60,
   "metadata": {
    "collapsed": false
   },
   "outputs": [
    {
     "data": {
      "image/png": "[encoded data removed]",
      "text/plain": [
       "<matplotlib.figure.Figure at 0x1186a6f50>"
      ]
     },
     "metadata": {},
     "output_type": "display_data"
    }
   ],
   "source": [
    "n_groups = 3\n",
    "east_tweets = (east1_retweets, east2_retweets, east3_retweets)\n",
    "west_tweets = (west1_retweets, west2_retweets, west3_retweets)\n",
    "\n",
    "fig, ax = plt.subplots()\n",
    "index = np.arange(n_groups)\n",
    "bar_width = 0.35\n",
    "\n",
    "rects1 = plt.bar(index, east_tweets, bar_width, color='b', label='East')\n",
    "\n",
    "rects2 = plt.bar(index + bar_width, west_tweets, bar_width, color='g', label='West')\n",
    "\n",
    "plt.xlabel('Conference Day')\n",
    "plt.ylabel('Retweets')\n",
    "plt.xticks(index + bar_width, ('Day 1', 'Day 2', 'Day 3'))\n",
    "plt.title(\"Retweets by Day for Each Conference\")\n",
    "plt.legend()\n",
    "plt.savefig('retweets by day.png')\n",
    "plt.show()"
   ]
  },
  {
   "cell_type": "markdown",
   "metadata": {},
   "source": [
    "Finally we'll look at favorties by day for each conference"
   ]
  },
  {
   "cell_type": "code",
   "execution_count": 61,
   "metadata": {
    "collapsed": false
   },
   "outputs": [
    {
     "data": {
      "image/png": "[encoded data removed]",
      "text/plain": [
       "<matplotlib.figure.Figure at 0x124a34f50>"
      ]
     },
     "metadata": {},
     "output_type": "display_data"
    }
   ],
   "source": [
    "n_groups = 3\n",
    "east_tweets = (east1_favorites, east2_favorites, east3_favorites)\n",
    "west_tweets = (west1_favorites, west2_favorites, west3_favorites)\n",
    "\n",
    "fig, ax = plt.subplots()\n",
    "index = np.arange(n_groups)\n",
    "bar_width = 0.35\n",
    "\n",
    "rects1 = plt.bar(index, east_tweets, bar_width, color='b', label='East')\n",
    "\n",
    "rects2 = plt.bar(index + bar_width, west_tweets, bar_width, color='g', label='West')\n",
    "\n",
    "plt.xlabel('Conference Day')\n",
    "plt.ylabel('Favorites')\n",
    "plt.xticks(index + bar_width, ('Day 1', 'Day 2', 'Day 3'))\n",
    "plt.title(\"Favorites by Day for Each Conference\")\n",
    "plt.legend()\n",
    "plt.savefig('favorites by day.png')\n",
    "plt.show()"
   ]
  },
  {
   "cell_type": "markdown",
   "metadata": {
    "collapsed": true
   },
   "source": [
    "That's it!  \n",
    "Hopefully you found this interesting.  \n",
    "If you did, let me know at [@CodyWeisbach](http://twitter.com/codyweisbach) on Twitter.  \n",
    "If people are interested I'll do a similar analysis for each session of the conference. "
   ]
  }
 ],
 "metadata": {
  "anaconda-cloud": {},
  "kernelspec": {
   "display_name": "Python 2",
   "language": "python",
   "name": "python2"
  },
  "language_info": {
   "codemirror_mode": {
    "name": "ipython",
    "version": 2
   },
   "file_extension": ".py",
   "mimetype": "text/x-python",
   "name": "python",
   "nbconvert_exporter": "python",
   "pygments_lexer": "ipython2",
   "version": "2.7.12"
  }
 },
 "nbformat": 4,
 "nbformat_minor": 0
}
